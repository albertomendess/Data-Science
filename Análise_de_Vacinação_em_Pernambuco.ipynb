{
  "nbformat": 4,
  "nbformat_minor": 0,
  "metadata": {
    "colab": {
      "name": "Análise de Vacinação em Pernambuco.ipynb",
      "provenance": [],
      "mount_file_id": "1LGxxmkTlZyhwWn9ZXqkHyP_Y-_QVOYVc",
      "authorship_tag": "ABX9TyP1Rxbfcw2V62QZ+6Z3BypR",
      "include_colab_link": true
    },
    "kernelspec": {
      "name": "python3",
      "display_name": "Python 3"
    },
    "language_info": {
      "name": "python"
    }
  },
  "cells": [
    {
      "cell_type": "markdown",
      "metadata": {
        "id": "view-in-github",
        "colab_type": "text"
      },
      "source": [
        "<a href=\"https://colab.research.google.com/github/albertomendess/Data-Science/blob/main/An%C3%A1lise_de_Vacina%C3%A7%C3%A3o_em_Pernambuco.ipynb\" target=\"_parent\"><img src=\"https://colab.research.google.com/assets/colab-badge.svg\" alt=\"Open In Colab\"/></a>"
      ]
    },
    {
      "cell_type": "code",
      "metadata": {
        "id": "xzBdgXCTy_rZ"
      },
      "source": [
        "url = 'https://s3-sa-east-1.amazonaws.com/ckan.saude.gov.br/PNI/vacina/uf/2021-04-28/uf%3DPE/part-00000-7ab10ee1-6a0f-4ed9-b84c-9afb98b4efc2.c000.csv'"
      ],
      "execution_count": null,
      "outputs": []
    },
    {
      "cell_type": "code",
      "metadata": {
        "id": "DnHq508g0N55"
      },
      "source": [
        "!mkdir -p \"/content/drive/MyDrive/Colab Notebooks/VacinasPE\""
      ],
      "execution_count": null,
      "outputs": []
    },
    {
      "cell_type": "code",
      "metadata": {
        "colab": {
          "base_uri": "https://localhost:8080/"
        },
        "id": "KpmubvQS04X8",
        "outputId": "06ce6e9e-7cf5-432b-e08e-74aebda6aaf3"
      },
      "source": [
        "!wget -P \"/content/drive/MyDrive/Colab Notebooks/VacinasPE\" https://s3-sa-east-1.amazonaws.com/ckan.saude.gov.br/PNI/vacina/uf/2021-04-28/uf%3DPE/part-00000-7ab10ee1-6a0f-4ed9-b84c-9afb98b4efc2.c000.csv"
      ],
      "execution_count": null,
      "outputs": [
        {
          "output_type": "stream",
          "text": [
            "--2021-04-29 19:57:28--  https://s3-sa-east-1.amazonaws.com/ckan.saude.gov.br/PNI/vacina/uf/2021-04-28/uf%3DPE/part-00000-7ab10ee1-6a0f-4ed9-b84c-9afb98b4efc2.c000.csv\n",
            "Resolving s3-sa-east-1.amazonaws.com (s3-sa-east-1.amazonaws.com)... 52.95.165.10\n",
            "Connecting to s3-sa-east-1.amazonaws.com (s3-sa-east-1.amazonaws.com)|52.95.165.10|:443... connected.\n",
            "HTTP request sent, awaiting response... 200 OK\n",
            "Length: 923802459 (881M) [text/csv]\n",
            "Saving to: ‘/content/drive/MyDrive/Colab Notebooks/VacinasPE/part-00000-7ab10ee1-6a0f-4ed9-b84c-9afb98b4efc2.c000.csv.1’\n",
            "\n",
            "part-00000-7ab10ee1 100%[===================>] 881.01M  24.0MB/s    in 40s     \n",
            "\n",
            "2021-04-29 19:58:09 (22.2 MB/s) - ‘/content/drive/MyDrive/Colab Notebooks/VacinasPE/part-00000-7ab10ee1-6a0f-4ed9-b84c-9afb98b4efc2.c000.csv.1’ saved [923802459/923802459]\n",
            "\n"
          ],
          "name": "stdout"
        }
      ]
    },
    {
      "cell_type": "code",
      "metadata": {
        "id": "3R6t4cOl1FdQ"
      },
      "source": [
        "import pandas as pd\n",
        "import seaborn as sns"
      ],
      "execution_count": 1,
      "outputs": []
    },
    {
      "cell_type": "code",
      "metadata": {
        "id": "JMBbi_e1Rks3"
      },
      "source": [
        "sns.set()"
      ],
      "execution_count": 2,
      "outputs": []
    },
    {
      "cell_type": "code",
      "metadata": {
        "id": "7DpypdLL1oBX"
      },
      "source": [
        "df = pd.read_csv('/content/drive/MyDrive/Colab Notebooks/VacinasPE/part-00000-7ab10ee1-6a0f-4ed9-b84c-9afb98b4efc2.c000.csv', sep= ';')"
      ],
      "execution_count": 3,
      "outputs": []
    },
    {
      "cell_type": "code",
      "metadata": {
        "colab": {
          "base_uri": "https://localhost:8080/",
          "height": 421
        },
        "id": "ZOsjnNUz1xoV",
        "outputId": "0bc65744-6b94-4508-bbfd-27a3989f5ee4"
      },
      "source": [
        "df.head(4)"
      ],
      "execution_count": 4,
      "outputs": [
        {
          "output_type": "execute_result",
          "data": {
            "text/html": [
              "<div>\n",
              "<style scoped>\n",
              "    .dataframe tbody tr th:only-of-type {\n",
              "        vertical-align: middle;\n",
              "    }\n",
              "\n",
              "    .dataframe tbody tr th {\n",
              "        vertical-align: top;\n",
              "    }\n",
              "\n",
              "    .dataframe thead th {\n",
              "        text-align: right;\n",
              "    }\n",
              "</style>\n",
              "<table border=\"1\" class=\"dataframe\">\n",
              "  <thead>\n",
              "    <tr style=\"text-align: right;\">\n",
              "      <th></th>\n",
              "      <th>document_id</th>\n",
              "      <th>paciente_id</th>\n",
              "      <th>paciente_idade</th>\n",
              "      <th>paciente_dataNascimento</th>\n",
              "      <th>paciente_enumSexoBiologico</th>\n",
              "      <th>paciente_racaCor_codigo</th>\n",
              "      <th>paciente_racaCor_valor</th>\n",
              "      <th>paciente_endereco_coIbgeMunicipio</th>\n",
              "      <th>paciente_endereco_coPais</th>\n",
              "      <th>paciente_endereco_nmMunicipio</th>\n",
              "      <th>paciente_endereco_nmPais</th>\n",
              "      <th>paciente_endereco_uf</th>\n",
              "      <th>paciente_endereco_cep</th>\n",
              "      <th>paciente_nacionalidade_enumNacionalidade</th>\n",
              "      <th>estabelecimento_valor</th>\n",
              "      <th>estabelecimento_razaoSocial</th>\n",
              "      <th>estalecimento_noFantasia</th>\n",
              "      <th>estabelecimento_municipio_codigo</th>\n",
              "      <th>estabelecimento_municipio_nome</th>\n",
              "      <th>estabelecimento_uf</th>\n",
              "      <th>vacina_grupoAtendimento_codigo</th>\n",
              "      <th>vacina_grupoAtendimento_nome</th>\n",
              "      <th>vacina_categoria_codigo</th>\n",
              "      <th>vacina_categoria_nome</th>\n",
              "      <th>vacina_lote</th>\n",
              "      <th>vacina_fabricante_nome</th>\n",
              "      <th>vacina_fabricante_referencia</th>\n",
              "      <th>vacina_dataAplicacao</th>\n",
              "      <th>vacina_descricao_dose</th>\n",
              "      <th>vacina_codigo</th>\n",
              "      <th>vacina_nome</th>\n",
              "      <th>sistema_origem</th>\n",
              "      <th>data_importacao_rnds</th>\n",
              "      <th>id_sistema_origem</th>\n",
              "    </tr>\n",
              "  </thead>\n",
              "  <tbody>\n",
              "    <tr>\n",
              "      <th>0</th>\n",
              "      <td>3c6bed23-b759-4d65-8cb4-3fa9518a33e9-i0b0</td>\n",
              "      <td>5c232ca807a1f8400c192c58600dddab96f6cd2ab213d6...</td>\n",
              "      <td>88</td>\n",
              "      <td>1932-08-15</td>\n",
              "      <td>F</td>\n",
              "      <td>4</td>\n",
              "      <td>AMARELA</td>\n",
              "      <td>260345.0</td>\n",
              "      <td>10.0</td>\n",
              "      <td>CAMARAGIBE</td>\n",
              "      <td>BRASIL</td>\n",
              "      <td>PE</td>\n",
              "      <td>54786.0</td>\n",
              "      <td>B</td>\n",
              "      <td>2346117</td>\n",
              "      <td>MUNICIPIO DE CAMARAGIBE</td>\n",
              "      <td>USF BAIRRO NOVO I</td>\n",
              "      <td>260345</td>\n",
              "      <td>CAMARAGIBE</td>\n",
              "      <td>PE</td>\n",
              "      <td>205</td>\n",
              "      <td>Pessoas de 80 anos ou mais</td>\n",
              "      <td>2.0</td>\n",
              "      <td>Faixa Etária</td>\n",
              "      <td>210016</td>\n",
              "      <td>FUNDACAO BUTANTAN</td>\n",
              "      <td>Organization/61189445000156</td>\n",
              "      <td>2021-04-12T03:00:00.000Z</td>\n",
              "      <td>2ª Dose</td>\n",
              "      <td>86</td>\n",
              "      <td>Covid-19-Coronavac-Sinovac/Butantan</td>\n",
              "      <td>Novo PNI</td>\n",
              "      <td>2021-04-24 15:53:18</td>\n",
              "      <td>16341</td>\n",
              "    </tr>\n",
              "    <tr>\n",
              "      <th>1</th>\n",
              "      <td>0b8e2f2c-4877-4f6c-836b-b2339570948a-i0b0</td>\n",
              "      <td>6308ed94e0bca060b4211a746e3a45843173810ae4c4f9...</td>\n",
              "      <td>71</td>\n",
              "      <td>1949-06-08</td>\n",
              "      <td>F</td>\n",
              "      <td>4</td>\n",
              "      <td>AMARELA</td>\n",
              "      <td>261360.0</td>\n",
              "      <td>10.0</td>\n",
              "      <td>SAO JOSE DO EGITO</td>\n",
              "      <td>BRASIL</td>\n",
              "      <td>PE</td>\n",
              "      <td>56700.0</td>\n",
              "      <td>B</td>\n",
              "      <td>2635666</td>\n",
              "      <td>PREFEITURA MUNICIPAL DE SAO JOSE DO EGITO</td>\n",
              "      <td>ESF RIACHO DO MEIO I</td>\n",
              "      <td>261360</td>\n",
              "      <td>SAO JOSE DO EGITO</td>\n",
              "      <td>PE</td>\n",
              "      <td>203</td>\n",
              "      <td>Pessoas de 70 a 74 anos</td>\n",
              "      <td>2.0</td>\n",
              "      <td>Faixa Etária</td>\n",
              "      <td>210080</td>\n",
              "      <td>FUNDACAO BUTANTAN</td>\n",
              "      <td>Organization/61189445000156</td>\n",
              "      <td>2021-03-23T03:00:00.000Z</td>\n",
              "      <td>1ª Dose</td>\n",
              "      <td>86</td>\n",
              "      <td>Covid-19-Coronavac-Sinovac/Butantan</td>\n",
              "      <td>Novo PNI</td>\n",
              "      <td>2021-03-26 10:26:09</td>\n",
              "      <td>16341</td>\n",
              "    </tr>\n",
              "    <tr>\n",
              "      <th>2</th>\n",
              "      <td>7149215c-f673-40e0-8fe4-a73f405b8928-i0b0</td>\n",
              "      <td>626f3937c13322f4d8b8bf82468dd9b0c8689d9a3e1748...</td>\n",
              "      <td>68</td>\n",
              "      <td>1953-02-18</td>\n",
              "      <td>F</td>\n",
              "      <td>4</td>\n",
              "      <td>AMARELA</td>\n",
              "      <td>261640.0</td>\n",
              "      <td>10.0</td>\n",
              "      <td>VITORIA DE SANTO ANTAO</td>\n",
              "      <td>BRASIL</td>\n",
              "      <td>PE</td>\n",
              "      <td>NaN</td>\n",
              "      <td>B</td>\n",
              "      <td>2638045</td>\n",
              "      <td>FUNDO MUNICIPAL DE SAUDE DE VITORIA DE SANTO A...</td>\n",
              "      <td>U S F ALTO JOSE LEAL</td>\n",
              "      <td>261640</td>\n",
              "      <td>VITORIA DE SANTO ANTAO</td>\n",
              "      <td>PE</td>\n",
              "      <td>202</td>\n",
              "      <td>Pessoas de 65 a 69 anos</td>\n",
              "      <td>2.0</td>\n",
              "      <td>Faixa Etária</td>\n",
              "      <td>210148</td>\n",
              "      <td>FUNDACAO BUTANTAN</td>\n",
              "      <td>Organization/61189445000156</td>\n",
              "      <td>2021-04-24T03:00:00.000Z</td>\n",
              "      <td>2ª Dose</td>\n",
              "      <td>86</td>\n",
              "      <td>Covid-19-Coronavac-Sinovac/Butantan</td>\n",
              "      <td>Novo PNI</td>\n",
              "      <td>2021-04-24 15:09:04</td>\n",
              "      <td>16341</td>\n",
              "    </tr>\n",
              "    <tr>\n",
              "      <th>3</th>\n",
              "      <td>e4635300-a5ce-464f-a0a5-c450c4a17daf-i0b0</td>\n",
              "      <td>17259b3b143eb47f17b15ee6895e9c76811703650588ea...</td>\n",
              "      <td>79</td>\n",
              "      <td>1942-03-25</td>\n",
              "      <td>F</td>\n",
              "      <td>4</td>\n",
              "      <td>AMARELA</td>\n",
              "      <td>260140.0</td>\n",
              "      <td>10.0</td>\n",
              "      <td>BARREIROS</td>\n",
              "      <td>BRASIL</td>\n",
              "      <td>PE</td>\n",
              "      <td>55560.0</td>\n",
              "      <td>B</td>\n",
              "      <td>7620349</td>\n",
              "      <td>PREFEITURA MUNICIPAL DOS BARREIROS</td>\n",
              "      <td>PSF JOSICLEIDE MARIA DA SILVA SOUZA</td>\n",
              "      <td>260140</td>\n",
              "      <td>BARREIROS</td>\n",
              "      <td>PE</td>\n",
              "      <td>204</td>\n",
              "      <td>Pessoas de 75 a 79 anos</td>\n",
              "      <td>2.0</td>\n",
              "      <td>Faixa Etária</td>\n",
              "      <td>4120Z025</td>\n",
              "      <td>FUNDACAO OSWALDO CRUZ</td>\n",
              "      <td>Organization/33781055000135</td>\n",
              "      <td>2021-03-31T03:00:00.000Z</td>\n",
              "      <td>1ª Dose</td>\n",
              "      <td>85</td>\n",
              "      <td>Vacina Covid-19 - Covishield</td>\n",
              "      <td>Novo PNI</td>\n",
              "      <td>2021-04-05 23:12:45</td>\n",
              "      <td>16341</td>\n",
              "    </tr>\n",
              "  </tbody>\n",
              "</table>\n",
              "</div>"
            ],
            "text/plain": [
              "                                 document_id  ... id_sistema_origem\n",
              "0  3c6bed23-b759-4d65-8cb4-3fa9518a33e9-i0b0  ...             16341\n",
              "1  0b8e2f2c-4877-4f6c-836b-b2339570948a-i0b0  ...             16341\n",
              "2  7149215c-f673-40e0-8fe4-a73f405b8928-i0b0  ...             16341\n",
              "3  e4635300-a5ce-464f-a0a5-c450c4a17daf-i0b0  ...             16341\n",
              "\n",
              "[4 rows x 34 columns]"
            ]
          },
          "metadata": {
            "tags": []
          },
          "execution_count": 4
        }
      ]
    },
    {
      "cell_type": "code",
      "metadata": {
        "colab": {
          "base_uri": "https://localhost:8080/"
        },
        "id": "wYBgs_gS1_U7",
        "outputId": "4e777338-2a54-4900-dd6e-565c62386a5d"
      },
      "source": [
        "df.info()"
      ],
      "execution_count": 5,
      "outputs": [
        {
          "output_type": "stream",
          "text": [
            "<class 'pandas.core.frame.DataFrame'>\n",
            "RangeIndex: 1677634 entries, 0 to 1677633\n",
            "Data columns (total 34 columns):\n",
            " #   Column                                    Non-Null Count    Dtype  \n",
            "---  ------                                    --------------    -----  \n",
            " 0   document_id                               1677634 non-null  object \n",
            " 1   paciente_id                               1677634 non-null  object \n",
            " 2   paciente_idade                            1677634 non-null  int64  \n",
            " 3   paciente_dataNascimento                   1677634 non-null  object \n",
            " 4   paciente_enumSexoBiologico                1677634 non-null  object \n",
            " 5   paciente_racaCor_codigo                   1677634 non-null  int64  \n",
            " 6   paciente_racaCor_valor                    1677634 non-null  object \n",
            " 7   paciente_endereco_coIbgeMunicipio         1667030 non-null  float64\n",
            " 8   paciente_endereco_coPais                  1667042 non-null  float64\n",
            " 9   paciente_endereco_nmMunicipio             1667037 non-null  object \n",
            " 10  paciente_endereco_nmPais                  1667042 non-null  object \n",
            " 11  paciente_endereco_uf                      1667030 non-null  object \n",
            " 12  paciente_endereco_cep                     1484868 non-null  float64\n",
            " 13  paciente_nacionalidade_enumNacionalidade  1674560 non-null  object \n",
            " 14  estabelecimento_valor                     1677634 non-null  int64  \n",
            " 15  estabelecimento_razaoSocial               1677634 non-null  object \n",
            " 16  estalecimento_noFantasia                  1677634 non-null  object \n",
            " 17  estabelecimento_municipio_codigo          1677634 non-null  int64  \n",
            " 18  estabelecimento_municipio_nome            1677634 non-null  object \n",
            " 19  estabelecimento_uf                        1677634 non-null  object \n",
            " 20  vacina_grupoAtendimento_codigo            1677634 non-null  int64  \n",
            " 21  vacina_grupoAtendimento_nome              1674903 non-null  object \n",
            " 22  vacina_categoria_codigo                   1674903 non-null  float64\n",
            " 23  vacina_categoria_nome                     1674903 non-null  object \n",
            " 24  vacina_lote                               1677634 non-null  object \n",
            " 25  vacina_fabricante_nome                    1677634 non-null  object \n",
            " 26  vacina_fabricante_referencia              1268107 non-null  object \n",
            " 27  vacina_dataAplicacao                      1677634 non-null  object \n",
            " 28  vacina_descricao_dose                     1677634 non-null  object \n",
            " 29  vacina_codigo                             1677634 non-null  int64  \n",
            " 30  vacina_nome                               1677634 non-null  object \n",
            " 31  sistema_origem                            1677634 non-null  object \n",
            " 32  data_importacao_rnds                      1677634 non-null  object \n",
            " 33  id_sistema_origem                         1677634 non-null  int64  \n",
            "dtypes: float64(4), int64(7), object(23)\n",
            "memory usage: 435.2+ MB\n"
          ],
          "name": "stdout"
        }
      ]
    },
    {
      "cell_type": "code",
      "metadata": {
        "colab": {
          "base_uri": "https://localhost:8080/",
          "height": 462
        },
        "id": "tGVFxfWYPtbn",
        "outputId": "f01e3271-9d5d-45e0-dea6-b5c1794ed2de"
      },
      "source": [
        "df.describe(include= 'all').round(3)"
      ],
      "execution_count": 6,
      "outputs": [
        {
          "output_type": "execute_result",
          "data": {
            "text/html": [
              "<div>\n",
              "<style scoped>\n",
              "    .dataframe tbody tr th:only-of-type {\n",
              "        vertical-align: middle;\n",
              "    }\n",
              "\n",
              "    .dataframe tbody tr th {\n",
              "        vertical-align: top;\n",
              "    }\n",
              "\n",
              "    .dataframe thead th {\n",
              "        text-align: right;\n",
              "    }\n",
              "</style>\n",
              "<table border=\"1\" class=\"dataframe\">\n",
              "  <thead>\n",
              "    <tr style=\"text-align: right;\">\n",
              "      <th></th>\n",
              "      <th>document_id</th>\n",
              "      <th>paciente_id</th>\n",
              "      <th>paciente_idade</th>\n",
              "      <th>paciente_dataNascimento</th>\n",
              "      <th>paciente_enumSexoBiologico</th>\n",
              "      <th>paciente_racaCor_codigo</th>\n",
              "      <th>paciente_racaCor_valor</th>\n",
              "      <th>paciente_endereco_coIbgeMunicipio</th>\n",
              "      <th>paciente_endereco_coPais</th>\n",
              "      <th>paciente_endereco_nmMunicipio</th>\n",
              "      <th>paciente_endereco_nmPais</th>\n",
              "      <th>paciente_endereco_uf</th>\n",
              "      <th>paciente_endereco_cep</th>\n",
              "      <th>paciente_nacionalidade_enumNacionalidade</th>\n",
              "      <th>estabelecimento_valor</th>\n",
              "      <th>estabelecimento_razaoSocial</th>\n",
              "      <th>estalecimento_noFantasia</th>\n",
              "      <th>estabelecimento_municipio_codigo</th>\n",
              "      <th>estabelecimento_municipio_nome</th>\n",
              "      <th>estabelecimento_uf</th>\n",
              "      <th>vacina_grupoAtendimento_codigo</th>\n",
              "      <th>vacina_grupoAtendimento_nome</th>\n",
              "      <th>vacina_categoria_codigo</th>\n",
              "      <th>vacina_categoria_nome</th>\n",
              "      <th>vacina_lote</th>\n",
              "      <th>vacina_fabricante_nome</th>\n",
              "      <th>vacina_fabricante_referencia</th>\n",
              "      <th>vacina_dataAplicacao</th>\n",
              "      <th>vacina_descricao_dose</th>\n",
              "      <th>vacina_codigo</th>\n",
              "      <th>vacina_nome</th>\n",
              "      <th>sistema_origem</th>\n",
              "      <th>data_importacao_rnds</th>\n",
              "      <th>id_sistema_origem</th>\n",
              "    </tr>\n",
              "  </thead>\n",
              "  <tbody>\n",
              "    <tr>\n",
              "      <th>count</th>\n",
              "      <td>1677634</td>\n",
              "      <td>1677634</td>\n",
              "      <td>1677634.000</td>\n",
              "      <td>1677634</td>\n",
              "      <td>1677634</td>\n",
              "      <td>1677634.000</td>\n",
              "      <td>1677634</td>\n",
              "      <td>1667030.000</td>\n",
              "      <td>1667042.000</td>\n",
              "      <td>1667037</td>\n",
              "      <td>1667042</td>\n",
              "      <td>1667030</td>\n",
              "      <td>1484868.000</td>\n",
              "      <td>1674560</td>\n",
              "      <td>1677634.000</td>\n",
              "      <td>1677634</td>\n",
              "      <td>1677634</td>\n",
              "      <td>1677634.000</td>\n",
              "      <td>1677634</td>\n",
              "      <td>1677634</td>\n",
              "      <td>1677634.000</td>\n",
              "      <td>1674903</td>\n",
              "      <td>1674903.000</td>\n",
              "      <td>1674903</td>\n",
              "      <td>1677634</td>\n",
              "      <td>1677634</td>\n",
              "      <td>1268107</td>\n",
              "      <td>1677634</td>\n",
              "      <td>1677634</td>\n",
              "      <td>1677634.000</td>\n",
              "      <td>1677634</td>\n",
              "      <td>1677634</td>\n",
              "      <td>1677634</td>\n",
              "      <td>1677634.000</td>\n",
              "    </tr>\n",
              "    <tr>\n",
              "      <th>unique</th>\n",
              "      <td>1676417</td>\n",
              "      <td>1185934</td>\n",
              "      <td>NaN</td>\n",
              "      <td>31330</td>\n",
              "      <td>2</td>\n",
              "      <td>NaN</td>\n",
              "      <td>6</td>\n",
              "      <td>NaN</td>\n",
              "      <td>NaN</td>\n",
              "      <td>2726</td>\n",
              "      <td>4</td>\n",
              "      <td>28</td>\n",
              "      <td>NaN</td>\n",
              "      <td>3</td>\n",
              "      <td>NaN</td>\n",
              "      <td>300</td>\n",
              "      <td>1492</td>\n",
              "      <td>NaN</td>\n",
              "      <td>185</td>\n",
              "      <td>1</td>\n",
              "      <td>NaN</td>\n",
              "      <td>66</td>\n",
              "      <td>NaN</td>\n",
              "      <td>15</td>\n",
              "      <td>116</td>\n",
              "      <td>7</td>\n",
              "      <td>3</td>\n",
              "      <td>201</td>\n",
              "      <td>3</td>\n",
              "      <td>NaN</td>\n",
              "      <td>5</td>\n",
              "      <td>2</td>\n",
              "      <td>901333</td>\n",
              "      <td>NaN</td>\n",
              "    </tr>\n",
              "    <tr>\n",
              "      <th>top</th>\n",
              "      <td>c0b141b0-26bd-41fc-933d-dfa538090f5c-i0b0</td>\n",
              "      <td>a0bc3145af1c7b0c8e0b0cda4c934396fe28e76b7f1f89...</td>\n",
              "      <td>NaN</td>\n",
              "      <td>1950-01-20</td>\n",
              "      <td>F</td>\n",
              "      <td>NaN</td>\n",
              "      <td>SEM INFORMACAO</td>\n",
              "      <td>NaN</td>\n",
              "      <td>NaN</td>\n",
              "      <td>RECIFE</td>\n",
              "      <td>BRASIL</td>\n",
              "      <td>PE</td>\n",
              "      <td>NaN</td>\n",
              "      <td>B</td>\n",
              "      <td>NaN</td>\n",
              "      <td>MUNICIPIO DO RECIFE</td>\n",
              "      <td>SECRETARIA DE SAUDE DO JABOATAO DOS GUARARAPES</td>\n",
              "      <td>NaN</td>\n",
              "      <td>RECIFE</td>\n",
              "      <td>PE</td>\n",
              "      <td>NaN</td>\n",
              "      <td>Pessoas de 70 a 74 anos</td>\n",
              "      <td>NaN</td>\n",
              "      <td>Faixa Etária</td>\n",
              "      <td>210114</td>\n",
              "      <td>FUNDACAO BUTANTAN</td>\n",
              "      <td>Organization/61189445000156</td>\n",
              "      <td>2021-03-30T03:00:00.000Z</td>\n",
              "      <td>1ª Dose</td>\n",
              "      <td>NaN</td>\n",
              "      <td>Covid-19-Coronavac-Sinovac/Butantan</td>\n",
              "      <td>Novo PNI</td>\n",
              "      <td>2021-02-22 14:04:17</td>\n",
              "      <td>NaN</td>\n",
              "    </tr>\n",
              "    <tr>\n",
              "      <th>freq</th>\n",
              "      <td>2</td>\n",
              "      <td>6</td>\n",
              "      <td>NaN</td>\n",
              "      <td>472</td>\n",
              "      <td>1016841</td>\n",
              "      <td>NaN</td>\n",
              "      <td>518285</td>\n",
              "      <td>NaN</td>\n",
              "      <td>NaN</td>\n",
              "      <td>404982</td>\n",
              "      <td>1667035</td>\n",
              "      <td>1590889</td>\n",
              "      <td>NaN</td>\n",
              "      <td>1670590</td>\n",
              "      <td>NaN</td>\n",
              "      <td>269865</td>\n",
              "      <td>70758</td>\n",
              "      <td>NaN</td>\n",
              "      <td>470072</td>\n",
              "      <td>1677634</td>\n",
              "      <td>NaN</td>\n",
              "      <td>306479</td>\n",
              "      <td>NaN</td>\n",
              "      <td>1158542</td>\n",
              "      <td>221068</td>\n",
              "      <td>1008757</td>\n",
              "      <td>1008757</td>\n",
              "      <td>45993</td>\n",
              "      <td>1166930</td>\n",
              "      <td>NaN</td>\n",
              "      <td>1355064</td>\n",
              "      <td>1268107</td>\n",
              "      <td>5111</td>\n",
              "      <td>NaN</td>\n",
              "    </tr>\n",
              "    <tr>\n",
              "      <th>mean</th>\n",
              "      <td>NaN</td>\n",
              "      <td>NaN</td>\n",
              "      <td>63.657</td>\n",
              "      <td>NaN</td>\n",
              "      <td>NaN</td>\n",
              "      <td>32.524</td>\n",
              "      <td>NaN</td>\n",
              "      <td>262900.468</td>\n",
              "      <td>10.001</td>\n",
              "      <td>NaN</td>\n",
              "      <td>NaN</td>\n",
              "      <td>NaN</td>\n",
              "      <td>53695.309</td>\n",
              "      <td>NaN</td>\n",
              "      <td>4030607.349</td>\n",
              "      <td>NaN</td>\n",
              "      <td>NaN</td>\n",
              "      <td>260893.634</td>\n",
              "      <td>NaN</td>\n",
              "      <td>NaN</td>\n",
              "      <td>394.953</td>\n",
              "      <td>NaN</td>\n",
              "      <td>3.882</td>\n",
              "      <td>NaN</td>\n",
              "      <td>NaN</td>\n",
              "      <td>NaN</td>\n",
              "      <td>NaN</td>\n",
              "      <td>NaN</td>\n",
              "      <td>NaN</td>\n",
              "      <td>85.865</td>\n",
              "      <td>NaN</td>\n",
              "      <td>NaN</td>\n",
              "      <td>NaN</td>\n",
              "      <td>16892.932</td>\n",
              "    </tr>\n",
              "    <tr>\n",
              "      <th>std</th>\n",
              "      <td>NaN</td>\n",
              "      <td>NaN</td>\n",
              "      <td>17.282</td>\n",
              "      <td>NaN</td>\n",
              "      <td>NaN</td>\n",
              "      <td>44.459</td>\n",
              "      <td>NaN</td>\n",
              "      <td>18873.004</td>\n",
              "      <td>0.386</td>\n",
              "      <td>NaN</td>\n",
              "      <td>NaN</td>\n",
              "      <td>NaN</td>\n",
              "      <td>6488.946</td>\n",
              "      <td>NaN</td>\n",
              "      <td>2637680.157</td>\n",
              "      <td>NaN</td>\n",
              "      <td>NaN</td>\n",
              "      <td>412.663</td>\n",
              "      <td>NaN</td>\n",
              "      <td>NaN</td>\n",
              "      <td>307.613</td>\n",
              "      <td>NaN</td>\n",
              "      <td>3.000</td>\n",
              "      <td>NaN</td>\n",
              "      <td>NaN</td>\n",
              "      <td>NaN</td>\n",
              "      <td>NaN</td>\n",
              "      <td>NaN</td>\n",
              "      <td>NaN</td>\n",
              "      <td>0.536</td>\n",
              "      <td>NaN</td>\n",
              "      <td>NaN</td>\n",
              "      <td>NaN</td>\n",
              "      <td>971.231</td>\n",
              "    </tr>\n",
              "    <tr>\n",
              "      <th>min</th>\n",
              "      <td>NaN</td>\n",
              "      <td>NaN</td>\n",
              "      <td>0.000</td>\n",
              "      <td>NaN</td>\n",
              "      <td>NaN</td>\n",
              "      <td>1.000</td>\n",
              "      <td>NaN</td>\n",
              "      <td>110001.000</td>\n",
              "      <td>10.000</td>\n",
              "      <td>NaN</td>\n",
              "      <td>NaN</td>\n",
              "      <td>NaN</td>\n",
              "      <td>0.000</td>\n",
              "      <td>NaN</td>\n",
              "      <td>19.000</td>\n",
              "      <td>NaN</td>\n",
              "      <td>NaN</td>\n",
              "      <td>260005.000</td>\n",
              "      <td>NaN</td>\n",
              "      <td>NaN</td>\n",
              "      <td>0.000</td>\n",
              "      <td>NaN</td>\n",
              "      <td>1.000</td>\n",
              "      <td>NaN</td>\n",
              "      <td>NaN</td>\n",
              "      <td>NaN</td>\n",
              "      <td>NaN</td>\n",
              "      <td>NaN</td>\n",
              "      <td>NaN</td>\n",
              "      <td>85.000</td>\n",
              "      <td>NaN</td>\n",
              "      <td>NaN</td>\n",
              "      <td>NaN</td>\n",
              "      <td>16341.000</td>\n",
              "    </tr>\n",
              "    <tr>\n",
              "      <th>25%</th>\n",
              "      <td>NaN</td>\n",
              "      <td>NaN</td>\n",
              "      <td>56.000</td>\n",
              "      <td>NaN</td>\n",
              "      <td>NaN</td>\n",
              "      <td>3.000</td>\n",
              "      <td>NaN</td>\n",
              "      <td>260570.000</td>\n",
              "      <td>10.000</td>\n",
              "      <td>NaN</td>\n",
              "      <td>NaN</td>\n",
              "      <td>NaN</td>\n",
              "      <td>52130.000</td>\n",
              "      <td>NaN</td>\n",
              "      <td>2427648.000</td>\n",
              "      <td>NaN</td>\n",
              "      <td>NaN</td>\n",
              "      <td>260580.000</td>\n",
              "      <td>NaN</td>\n",
              "      <td>NaN</td>\n",
              "      <td>202.000</td>\n",
              "      <td>NaN</td>\n",
              "      <td>2.000</td>\n",
              "      <td>NaN</td>\n",
              "      <td>NaN</td>\n",
              "      <td>NaN</td>\n",
              "      <td>NaN</td>\n",
              "      <td>NaN</td>\n",
              "      <td>NaN</td>\n",
              "      <td>86.000</td>\n",
              "      <td>NaN</td>\n",
              "      <td>NaN</td>\n",
              "      <td>NaN</td>\n",
              "      <td>16341.000</td>\n",
              "    </tr>\n",
              "    <tr>\n",
              "      <th>50%</th>\n",
              "      <td>NaN</td>\n",
              "      <td>NaN</td>\n",
              "      <td>68.000</td>\n",
              "      <td>NaN</td>\n",
              "      <td>NaN</td>\n",
              "      <td>4.000</td>\n",
              "      <td>NaN</td>\n",
              "      <td>261050.000</td>\n",
              "      <td>10.000</td>\n",
              "      <td>NaN</td>\n",
              "      <td>NaN</td>\n",
              "      <td>NaN</td>\n",
              "      <td>55240.000</td>\n",
              "      <td>NaN</td>\n",
              "      <td>2714701.000</td>\n",
              "      <td>NaN</td>\n",
              "      <td>NaN</td>\n",
              "      <td>261070.000</td>\n",
              "      <td>NaN</td>\n",
              "      <td>NaN</td>\n",
              "      <td>204.000</td>\n",
              "      <td>NaN</td>\n",
              "      <td>2.000</td>\n",
              "      <td>NaN</td>\n",
              "      <td>NaN</td>\n",
              "      <td>NaN</td>\n",
              "      <td>NaN</td>\n",
              "      <td>NaN</td>\n",
              "      <td>NaN</td>\n",
              "      <td>86.000</td>\n",
              "      <td>NaN</td>\n",
              "      <td>NaN</td>\n",
              "      <td>NaN</td>\n",
              "      <td>16341.000</td>\n",
              "    </tr>\n",
              "    <tr>\n",
              "      <th>75%</th>\n",
              "      <td>NaN</td>\n",
              "      <td>NaN</td>\n",
              "      <td>75.000</td>\n",
              "      <td>NaN</td>\n",
              "      <td>NaN</td>\n",
              "      <td>99.000</td>\n",
              "      <td>NaN</td>\n",
              "      <td>261160.000</td>\n",
              "      <td>10.000</td>\n",
              "      <td>NaN</td>\n",
              "      <td>NaN</td>\n",
              "      <td>NaN</td>\n",
              "      <td>55850.000</td>\n",
              "      <td>NaN</td>\n",
              "      <td>6508510.000</td>\n",
              "      <td>NaN</td>\n",
              "      <td>NaN</td>\n",
              "      <td>261160.000</td>\n",
              "      <td>NaN</td>\n",
              "      <td>NaN</td>\n",
              "      <td>701.000</td>\n",
              "      <td>NaN</td>\n",
              "      <td>7.000</td>\n",
              "      <td>NaN</td>\n",
              "      <td>NaN</td>\n",
              "      <td>NaN</td>\n",
              "      <td>NaN</td>\n",
              "      <td>NaN</td>\n",
              "      <td>NaN</td>\n",
              "      <td>86.000</td>\n",
              "      <td>NaN</td>\n",
              "      <td>NaN</td>\n",
              "      <td>NaN</td>\n",
              "      <td>16341.000</td>\n",
              "    </tr>\n",
              "    <tr>\n",
              "      <th>max</th>\n",
              "      <td>NaN</td>\n",
              "      <td>NaN</td>\n",
              "      <td>121.000</td>\n",
              "      <td>NaN</td>\n",
              "      <td>NaN</td>\n",
              "      <td>99.000</td>\n",
              "      <td>NaN</td>\n",
              "      <td>999999.000</td>\n",
              "      <td>221.000</td>\n",
              "      <td>NaN</td>\n",
              "      <td>NaN</td>\n",
              "      <td>NaN</td>\n",
              "      <td>99999.000</td>\n",
              "      <td>NaN</td>\n",
              "      <td>9997997.000</td>\n",
              "      <td>NaN</td>\n",
              "      <td>NaN</td>\n",
              "      <td>261650.000</td>\n",
              "      <td>NaN</td>\n",
              "      <td>NaN</td>\n",
              "      <td>1601.000</td>\n",
              "      <td>NaN</td>\n",
              "      <td>16.000</td>\n",
              "      <td>NaN</td>\n",
              "      <td>NaN</td>\n",
              "      <td>NaN</td>\n",
              "      <td>NaN</td>\n",
              "      <td>NaN</td>\n",
              "      <td>NaN</td>\n",
              "      <td>89.000</td>\n",
              "      <td>NaN</td>\n",
              "      <td>NaN</td>\n",
              "      <td>NaN</td>\n",
              "      <td>18602.000</td>\n",
              "    </tr>\n",
              "  </tbody>\n",
              "</table>\n",
              "</div>"
            ],
            "text/plain": [
              "                                      document_id  ... id_sistema_origem\n",
              "count                                     1677634  ...       1677634.000\n",
              "unique                                    1676417  ...               NaN\n",
              "top     c0b141b0-26bd-41fc-933d-dfa538090f5c-i0b0  ...               NaN\n",
              "freq                                            2  ...               NaN\n",
              "mean                                          NaN  ...         16892.932\n",
              "std                                           NaN  ...           971.231\n",
              "min                                           NaN  ...         16341.000\n",
              "25%                                           NaN  ...         16341.000\n",
              "50%                                           NaN  ...         16341.000\n",
              "75%                                           NaN  ...         16341.000\n",
              "max                                           NaN  ...         18602.000\n",
              "\n",
              "[11 rows x 34 columns]"
            ]
          },
          "metadata": {
            "tags": []
          },
          "execution_count": 6
        }
      ]
    },
    {
      "cell_type": "code",
      "metadata": {
        "colab": {
          "base_uri": "https://localhost:8080/",
          "height": 376
        },
        "id": "iuhm-TVORFQP",
        "outputId": "2ff45255-7c3f-45eb-f5aa-c12e69c4bb80"
      },
      "source": [
        "df.paciente_racaCor_valor.value_counts(normalize=True).plot(kind='bar')"
      ],
      "execution_count": 7,
      "outputs": [
        {
          "output_type": "execute_result",
          "data": {
            "text/plain": [
              "<matplotlib.axes._subplots.AxesSubplot at 0x7fc627a20e50>"
            ]
          },
          "metadata": {
            "tags": []
          },
          "execution_count": 7
        },
        {
          "output_type": "display_data",
          "data": {
            "image/png": "[encoded data removed]",
            "text/plain": [
              "<Figure size 432x288 with 1 Axes>"
            ]
          },
          "metadata": {
            "tags": []
          }
        }
      ]
    },
    {
      "cell_type": "code",
      "metadata": {
        "colab": {
          "base_uri": "https://localhost:8080/"
        },
        "id": "AqCobJyD-a90",
        "outputId": "e0e4c7b3-ac72-44e8-ef2d-9fcc556fdfc2"
      },
      "source": [
        "df.paciente_racaCor_valor.value_counts(normalize= True) * 100"
      ],
      "execution_count": 17,
      "outputs": [
        {
          "output_type": "execute_result",
          "data": {
            "text/plain": [
              "SEM INFORMACAO    30.893806\n",
              "PARDA             24.227990\n",
              "AMARELA           21.077661\n",
              "BRANCA            18.020796\n",
              "PRETA              3.349658\n",
              "INDIGENA           2.430089\n",
              "Name: paciente_racaCor_valor, dtype: float64"
            ]
          },
          "metadata": {
            "tags": []
          },
          "execution_count": 17
        }
      ]
    },
    {
      "cell_type": "code",
      "metadata": {
        "colab": {
          "base_uri": "https://localhost:8080/"
        },
        "id": "rqZm5DCyMgw5",
        "outputId": "1f12c5e3-1a0f-4e96-a0b1-56924fce6c03"
      },
      "source": [
        "df.estabelecimento_razaoSocial.value_counts(normalize= True)"
      ],
      "execution_count": 9,
      "outputs": [
        {
          "output_type": "execute_result",
          "data": {
            "text/plain": [
              "MUNICIPIO DO RECIFE                                 1.608605e-01\n",
              "PREFEITURA DA CIDADE DO RECIFE                      1.038921e-01\n",
              "PREFEITURA MUNICIPAL JABOATAO DOS GUARARAPES        4.217726e-02\n",
              "CENTRAL MUNICIPAL DE REDE DE FRIOS CMRF             3.093583e-02\n",
              "MUNICIPIO DE PETROLINA                              2.920005e-02\n",
              "                                                        ...     \n",
              "PREFEIRUTA MUNICIPAL DE PESQUEIRA                   5.960776e-06\n",
              "PREFEITURA MUNICIAPAL DE CARUARU                    5.364698e-06\n",
              "PREFEITURA MUNICIPAL DE SANTA CRUZ DO CAPIBARIBE    4.172543e-06\n",
              "MUNICIPIO DE LAGOA DO CARRO                         1.788233e-06\n",
              "PREFEITURA MINICIPAL DO IPOJUCA                     5.960776e-07\n",
              "Name: estabelecimento_razaoSocial, Length: 300, dtype: float64"
            ]
          },
          "metadata": {
            "tags": []
          },
          "execution_count": 9
        }
      ]
    },
    {
      "cell_type": "code",
      "metadata": {
        "colab": {
          "base_uri": "https://localhost:8080/"
        },
        "id": "sJ_fmTDUNioG",
        "outputId": "ba02fcf8-a8d8-46c5-94ef-6eae1b872f82"
      },
      "source": [
        "porcentagem_tipo_de_vacina = df.vacina_fabricante_nome.value_counts(normalize= True) * 100\n",
        "porcentagem_tipo_de_vacina"
      ],
      "execution_count": 26,
      "outputs": [
        {
          "output_type": "execute_result",
          "data": {
            "text/plain": [
              "FUNDACAO BUTANTAN               60.129742\n",
              "SERUM INSTITUTE OF INDIA LTD    20.640676\n",
              "FUNDACAO OSWALDO CRUZ           14.040369\n",
              "SINOVAC LIFE SCIENCE CO LTD      3.762799\n",
              "MINISTERIO DA SAUDE              1.418903\n",
              "BioNTech/Fosun Pharma/Pfizer     0.006795\n",
              "Janssen-Cilag                    0.000715\n",
              "Name: vacina_fabricante_nome, dtype: float64"
            ]
          },
          "metadata": {
            "tags": []
          },
          "execution_count": 26
        }
      ]
    },
    {
      "cell_type": "code",
      "metadata": {
        "colab": {
          "base_uri": "https://localhost:8080/",
          "height": 471
        },
        "id": "9Gv7YRuvOZ89",
        "outputId": "92202f8f-a98e-4145-88aa-0cdd3d91499b"
      },
      "source": [
        "df.groupby(['paciente_idade', 'vacina_grupoAtendimento_nome']).count()"
      ],
      "execution_count": 11,
      "outputs": [
        {
          "output_type": "execute_result",
          "data": {
            "text/html": [
              "<div>\n",
              "<style scoped>\n",
              "    .dataframe tbody tr th:only-of-type {\n",
              "        vertical-align: middle;\n",
              "    }\n",
              "\n",
              "    .dataframe tbody tr th {\n",
              "        vertical-align: top;\n",
              "    }\n",
              "\n",
              "    .dataframe thead th {\n",
              "        text-align: right;\n",
              "    }\n",
              "</style>\n",
              "<table border=\"1\" class=\"dataframe\">\n",
              "  <thead>\n",
              "    <tr style=\"text-align: right;\">\n",
              "      <th></th>\n",
              "      <th></th>\n",
              "      <th>document_id</th>\n",
              "      <th>paciente_id</th>\n",
              "      <th>paciente_dataNascimento</th>\n",
              "      <th>paciente_enumSexoBiologico</th>\n",
              "      <th>paciente_racaCor_codigo</th>\n",
              "      <th>paciente_racaCor_valor</th>\n",
              "      <th>paciente_endereco_coIbgeMunicipio</th>\n",
              "      <th>paciente_endereco_coPais</th>\n",
              "      <th>paciente_endereco_nmMunicipio</th>\n",
              "      <th>paciente_endereco_nmPais</th>\n",
              "      <th>paciente_endereco_uf</th>\n",
              "      <th>paciente_endereco_cep</th>\n",
              "      <th>paciente_nacionalidade_enumNacionalidade</th>\n",
              "      <th>estabelecimento_valor</th>\n",
              "      <th>estabelecimento_razaoSocial</th>\n",
              "      <th>estalecimento_noFantasia</th>\n",
              "      <th>estabelecimento_municipio_codigo</th>\n",
              "      <th>estabelecimento_municipio_nome</th>\n",
              "      <th>estabelecimento_uf</th>\n",
              "      <th>vacina_grupoAtendimento_codigo</th>\n",
              "      <th>vacina_categoria_codigo</th>\n",
              "      <th>vacina_categoria_nome</th>\n",
              "      <th>vacina_lote</th>\n",
              "      <th>vacina_fabricante_nome</th>\n",
              "      <th>vacina_fabricante_referencia</th>\n",
              "      <th>vacina_dataAplicacao</th>\n",
              "      <th>vacina_descricao_dose</th>\n",
              "      <th>vacina_codigo</th>\n",
              "      <th>vacina_nome</th>\n",
              "      <th>sistema_origem</th>\n",
              "      <th>data_importacao_rnds</th>\n",
              "      <th>id_sistema_origem</th>\n",
              "    </tr>\n",
              "    <tr>\n",
              "      <th>paciente_idade</th>\n",
              "      <th>vacina_grupoAtendimento_nome</th>\n",
              "      <th></th>\n",
              "      <th></th>\n",
              "      <th></th>\n",
              "      <th></th>\n",
              "      <th></th>\n",
              "      <th></th>\n",
              "      <th></th>\n",
              "      <th></th>\n",
              "      <th></th>\n",
              "      <th></th>\n",
              "      <th></th>\n",
              "      <th></th>\n",
              "      <th></th>\n",
              "      <th></th>\n",
              "      <th></th>\n",
              "      <th></th>\n",
              "      <th></th>\n",
              "      <th></th>\n",
              "      <th></th>\n",
              "      <th></th>\n",
              "      <th></th>\n",
              "      <th></th>\n",
              "      <th></th>\n",
              "      <th></th>\n",
              "      <th></th>\n",
              "      <th></th>\n",
              "      <th></th>\n",
              "      <th></th>\n",
              "      <th></th>\n",
              "      <th></th>\n",
              "      <th></th>\n",
              "      <th></th>\n",
              "    </tr>\n",
              "  </thead>\n",
              "  <tbody>\n",
              "    <tr>\n",
              "      <th rowspan=\"2\" valign=\"top\">0</th>\n",
              "      <th>Outros</th>\n",
              "      <td>1</td>\n",
              "      <td>1</td>\n",
              "      <td>1</td>\n",
              "      <td>1</td>\n",
              "      <td>1</td>\n",
              "      <td>1</td>\n",
              "      <td>1</td>\n",
              "      <td>1</td>\n",
              "      <td>1</td>\n",
              "      <td>1</td>\n",
              "      <td>1</td>\n",
              "      <td>1</td>\n",
              "      <td>1</td>\n",
              "      <td>1</td>\n",
              "      <td>1</td>\n",
              "      <td>1</td>\n",
              "      <td>1</td>\n",
              "      <td>1</td>\n",
              "      <td>1</td>\n",
              "      <td>1</td>\n",
              "      <td>1</td>\n",
              "      <td>1</td>\n",
              "      <td>1</td>\n",
              "      <td>1</td>\n",
              "      <td>1</td>\n",
              "      <td>1</td>\n",
              "      <td>1</td>\n",
              "      <td>1</td>\n",
              "      <td>1</td>\n",
              "      <td>1</td>\n",
              "      <td>1</td>\n",
              "      <td>1</td>\n",
              "    </tr>\n",
              "    <tr>\n",
              "      <th>Pessoas de 60 a 64 anos</th>\n",
              "      <td>1</td>\n",
              "      <td>1</td>\n",
              "      <td>1</td>\n",
              "      <td>1</td>\n",
              "      <td>1</td>\n",
              "      <td>1</td>\n",
              "      <td>1</td>\n",
              "      <td>1</td>\n",
              "      <td>1</td>\n",
              "      <td>1</td>\n",
              "      <td>1</td>\n",
              "      <td>1</td>\n",
              "      <td>1</td>\n",
              "      <td>1</td>\n",
              "      <td>1</td>\n",
              "      <td>1</td>\n",
              "      <td>1</td>\n",
              "      <td>1</td>\n",
              "      <td>1</td>\n",
              "      <td>1</td>\n",
              "      <td>1</td>\n",
              "      <td>1</td>\n",
              "      <td>1</td>\n",
              "      <td>1</td>\n",
              "      <td>1</td>\n",
              "      <td>1</td>\n",
              "      <td>1</td>\n",
              "      <td>1</td>\n",
              "      <td>1</td>\n",
              "      <td>1</td>\n",
              "      <td>1</td>\n",
              "      <td>1</td>\n",
              "    </tr>\n",
              "    <tr>\n",
              "      <th rowspan=\"2\" valign=\"top\">1</th>\n",
              "      <th>Pessoas de 75 a 79 anos</th>\n",
              "      <td>2</td>\n",
              "      <td>2</td>\n",
              "      <td>2</td>\n",
              "      <td>2</td>\n",
              "      <td>2</td>\n",
              "      <td>2</td>\n",
              "      <td>2</td>\n",
              "      <td>2</td>\n",
              "      <td>2</td>\n",
              "      <td>2</td>\n",
              "      <td>2</td>\n",
              "      <td>2</td>\n",
              "      <td>2</td>\n",
              "      <td>2</td>\n",
              "      <td>2</td>\n",
              "      <td>2</td>\n",
              "      <td>2</td>\n",
              "      <td>2</td>\n",
              "      <td>2</td>\n",
              "      <td>2</td>\n",
              "      <td>2</td>\n",
              "      <td>2</td>\n",
              "      <td>2</td>\n",
              "      <td>2</td>\n",
              "      <td>0</td>\n",
              "      <td>2</td>\n",
              "      <td>2</td>\n",
              "      <td>2</td>\n",
              "      <td>2</td>\n",
              "      <td>2</td>\n",
              "      <td>2</td>\n",
              "      <td>2</td>\n",
              "    </tr>\n",
              "    <tr>\n",
              "      <th>Pessoas de 80 anos ou mais</th>\n",
              "      <td>1</td>\n",
              "      <td>1</td>\n",
              "      <td>1</td>\n",
              "      <td>1</td>\n",
              "      <td>1</td>\n",
              "      <td>1</td>\n",
              "      <td>1</td>\n",
              "      <td>1</td>\n",
              "      <td>1</td>\n",
              "      <td>1</td>\n",
              "      <td>1</td>\n",
              "      <td>0</td>\n",
              "      <td>1</td>\n",
              "      <td>1</td>\n",
              "      <td>1</td>\n",
              "      <td>1</td>\n",
              "      <td>1</td>\n",
              "      <td>1</td>\n",
              "      <td>1</td>\n",
              "      <td>1</td>\n",
              "      <td>1</td>\n",
              "      <td>1</td>\n",
              "      <td>1</td>\n",
              "      <td>1</td>\n",
              "      <td>1</td>\n",
              "      <td>1</td>\n",
              "      <td>1</td>\n",
              "      <td>1</td>\n",
              "      <td>1</td>\n",
              "      <td>1</td>\n",
              "      <td>1</td>\n",
              "      <td>1</td>\n",
              "    </tr>\n",
              "    <tr>\n",
              "      <th>2</th>\n",
              "      <th>Povos indígenas em terras indígenas</th>\n",
              "      <td>1</td>\n",
              "      <td>1</td>\n",
              "      <td>1</td>\n",
              "      <td>1</td>\n",
              "      <td>1</td>\n",
              "      <td>1</td>\n",
              "      <td>1</td>\n",
              "      <td>1</td>\n",
              "      <td>1</td>\n",
              "      <td>1</td>\n",
              "      <td>1</td>\n",
              "      <td>1</td>\n",
              "      <td>1</td>\n",
              "      <td>1</td>\n",
              "      <td>1</td>\n",
              "      <td>1</td>\n",
              "      <td>1</td>\n",
              "      <td>1</td>\n",
              "      <td>1</td>\n",
              "      <td>1</td>\n",
              "      <td>1</td>\n",
              "      <td>1</td>\n",
              "      <td>1</td>\n",
              "      <td>1</td>\n",
              "      <td>1</td>\n",
              "      <td>1</td>\n",
              "      <td>1</td>\n",
              "      <td>1</td>\n",
              "      <td>1</td>\n",
              "      <td>1</td>\n",
              "      <td>1</td>\n",
              "      <td>1</td>\n",
              "    </tr>\n",
              "    <tr>\n",
              "      <th>...</th>\n",
              "      <th>...</th>\n",
              "      <td>...</td>\n",
              "      <td>...</td>\n",
              "      <td>...</td>\n",
              "      <td>...</td>\n",
              "      <td>...</td>\n",
              "      <td>...</td>\n",
              "      <td>...</td>\n",
              "      <td>...</td>\n",
              "      <td>...</td>\n",
              "      <td>...</td>\n",
              "      <td>...</td>\n",
              "      <td>...</td>\n",
              "      <td>...</td>\n",
              "      <td>...</td>\n",
              "      <td>...</td>\n",
              "      <td>...</td>\n",
              "      <td>...</td>\n",
              "      <td>...</td>\n",
              "      <td>...</td>\n",
              "      <td>...</td>\n",
              "      <td>...</td>\n",
              "      <td>...</td>\n",
              "      <td>...</td>\n",
              "      <td>...</td>\n",
              "      <td>...</td>\n",
              "      <td>...</td>\n",
              "      <td>...</td>\n",
              "      <td>...</td>\n",
              "      <td>...</td>\n",
              "      <td>...</td>\n",
              "      <td>...</td>\n",
              "      <td>...</td>\n",
              "    </tr>\n",
              "    <tr>\n",
              "      <th rowspan=\"5\" valign=\"top\">121</th>\n",
              "      <th>Pessoas de 75 a 79 anos</th>\n",
              "      <td>1</td>\n",
              "      <td>1</td>\n",
              "      <td>1</td>\n",
              "      <td>1</td>\n",
              "      <td>1</td>\n",
              "      <td>1</td>\n",
              "      <td>1</td>\n",
              "      <td>1</td>\n",
              "      <td>1</td>\n",
              "      <td>1</td>\n",
              "      <td>1</td>\n",
              "      <td>1</td>\n",
              "      <td>1</td>\n",
              "      <td>1</td>\n",
              "      <td>1</td>\n",
              "      <td>1</td>\n",
              "      <td>1</td>\n",
              "      <td>1</td>\n",
              "      <td>1</td>\n",
              "      <td>1</td>\n",
              "      <td>1</td>\n",
              "      <td>1</td>\n",
              "      <td>1</td>\n",
              "      <td>1</td>\n",
              "      <td>1</td>\n",
              "      <td>1</td>\n",
              "      <td>1</td>\n",
              "      <td>1</td>\n",
              "      <td>1</td>\n",
              "      <td>1</td>\n",
              "      <td>1</td>\n",
              "      <td>1</td>\n",
              "    </tr>\n",
              "    <tr>\n",
              "      <th>Pessoas de 80 anos ou mais</th>\n",
              "      <td>3</td>\n",
              "      <td>3</td>\n",
              "      <td>3</td>\n",
              "      <td>3</td>\n",
              "      <td>3</td>\n",
              "      <td>3</td>\n",
              "      <td>3</td>\n",
              "      <td>3</td>\n",
              "      <td>3</td>\n",
              "      <td>3</td>\n",
              "      <td>3</td>\n",
              "      <td>2</td>\n",
              "      <td>3</td>\n",
              "      <td>3</td>\n",
              "      <td>3</td>\n",
              "      <td>3</td>\n",
              "      <td>3</td>\n",
              "      <td>3</td>\n",
              "      <td>3</td>\n",
              "      <td>3</td>\n",
              "      <td>3</td>\n",
              "      <td>3</td>\n",
              "      <td>3</td>\n",
              "      <td>3</td>\n",
              "      <td>3</td>\n",
              "      <td>3</td>\n",
              "      <td>3</td>\n",
              "      <td>3</td>\n",
              "      <td>3</td>\n",
              "      <td>3</td>\n",
              "      <td>3</td>\n",
              "      <td>3</td>\n",
              "    </tr>\n",
              "    <tr>\n",
              "      <th>Recepcionista</th>\n",
              "      <td>2</td>\n",
              "      <td>2</td>\n",
              "      <td>2</td>\n",
              "      <td>2</td>\n",
              "      <td>2</td>\n",
              "      <td>2</td>\n",
              "      <td>2</td>\n",
              "      <td>2</td>\n",
              "      <td>2</td>\n",
              "      <td>2</td>\n",
              "      <td>2</td>\n",
              "      <td>2</td>\n",
              "      <td>2</td>\n",
              "      <td>2</td>\n",
              "      <td>2</td>\n",
              "      <td>2</td>\n",
              "      <td>2</td>\n",
              "      <td>2</td>\n",
              "      <td>2</td>\n",
              "      <td>2</td>\n",
              "      <td>2</td>\n",
              "      <td>2</td>\n",
              "      <td>2</td>\n",
              "      <td>2</td>\n",
              "      <td>2</td>\n",
              "      <td>2</td>\n",
              "      <td>2</td>\n",
              "      <td>2</td>\n",
              "      <td>2</td>\n",
              "      <td>2</td>\n",
              "      <td>2</td>\n",
              "      <td>2</td>\n",
              "    </tr>\n",
              "    <tr>\n",
              "      <th>Técnico de Enfermagem</th>\n",
              "      <td>9</td>\n",
              "      <td>9</td>\n",
              "      <td>9</td>\n",
              "      <td>9</td>\n",
              "      <td>9</td>\n",
              "      <td>9</td>\n",
              "      <td>9</td>\n",
              "      <td>9</td>\n",
              "      <td>9</td>\n",
              "      <td>9</td>\n",
              "      <td>9</td>\n",
              "      <td>4</td>\n",
              "      <td>9</td>\n",
              "      <td>9</td>\n",
              "      <td>9</td>\n",
              "      <td>9</td>\n",
              "      <td>9</td>\n",
              "      <td>9</td>\n",
              "      <td>9</td>\n",
              "      <td>9</td>\n",
              "      <td>9</td>\n",
              "      <td>9</td>\n",
              "      <td>9</td>\n",
              "      <td>9</td>\n",
              "      <td>9</td>\n",
              "      <td>9</td>\n",
              "      <td>9</td>\n",
              "      <td>9</td>\n",
              "      <td>9</td>\n",
              "      <td>9</td>\n",
              "      <td>9</td>\n",
              "      <td>9</td>\n",
              "    </tr>\n",
              "    <tr>\n",
              "      <th>Técnico de Odontologia</th>\n",
              "      <td>2</td>\n",
              "      <td>2</td>\n",
              "      <td>2</td>\n",
              "      <td>2</td>\n",
              "      <td>2</td>\n",
              "      <td>2</td>\n",
              "      <td>2</td>\n",
              "      <td>2</td>\n",
              "      <td>2</td>\n",
              "      <td>2</td>\n",
              "      <td>2</td>\n",
              "      <td>2</td>\n",
              "      <td>2</td>\n",
              "      <td>2</td>\n",
              "      <td>2</td>\n",
              "      <td>2</td>\n",
              "      <td>2</td>\n",
              "      <td>2</td>\n",
              "      <td>2</td>\n",
              "      <td>2</td>\n",
              "      <td>2</td>\n",
              "      <td>2</td>\n",
              "      <td>2</td>\n",
              "      <td>2</td>\n",
              "      <td>2</td>\n",
              "      <td>2</td>\n",
              "      <td>2</td>\n",
              "      <td>2</td>\n",
              "      <td>2</td>\n",
              "      <td>2</td>\n",
              "      <td>2</td>\n",
              "      <td>2</td>\n",
              "    </tr>\n",
              "  </tbody>\n",
              "</table>\n",
              "<p>3207 rows × 32 columns</p>\n",
              "</div>"
            ],
            "text/plain": [
              "                                                    document_id  ...  id_sistema_origem\n",
              "paciente_idade vacina_grupoAtendimento_nome                      ...                   \n",
              "0              Outros                                         1  ...                  1\n",
              "               Pessoas de 60 a 64 anos                        1  ...                  1\n",
              "1              Pessoas de 75 a 79 anos                        2  ...                  2\n",
              "               Pessoas de 80 anos ou mais                     1  ...                  1\n",
              "2              Povos indígenas em terras indígenas            1  ...                  1\n",
              "...                                                         ...  ...                ...\n",
              "121            Pessoas de 75 a 79 anos                        1  ...                  1\n",
              "               Pessoas de 80 anos ou mais                     3  ...                  3\n",
              "               Recepcionista                                  2  ...                  2\n",
              "               Técnico de Enfermagem                          9  ...                  9\n",
              "               Técnico de Odontologia                         2  ...                  2\n",
              "\n",
              "[3207 rows x 32 columns]"
            ]
          },
          "metadata": {
            "tags": []
          },
          "execution_count": 11
        }
      ]
    },
    {
      "cell_type": "code",
      "metadata": {
        "id": "VWHqOljHPhVy",
        "colab": {
          "base_uri": "https://localhost:8080/",
          "height": 261
        },
        "outputId": "1cea9971-aa82-4584-9c12-8345ce41af8f"
      },
      "source": [
        "df[df.paciente_idade == 0]"
      ],
      "execution_count": 12,
      "outputs": [
        {
          "output_type": "execute_result",
          "data": {
            "text/html": [
              "<div>\n",
              "<style scoped>\n",
              "    .dataframe tbody tr th:only-of-type {\n",
              "        vertical-align: middle;\n",
              "    }\n",
              "\n",
              "    .dataframe tbody tr th {\n",
              "        vertical-align: top;\n",
              "    }\n",
              "\n",
              "    .dataframe thead th {\n",
              "        text-align: right;\n",
              "    }\n",
              "</style>\n",
              "<table border=\"1\" class=\"dataframe\">\n",
              "  <thead>\n",
              "    <tr style=\"text-align: right;\">\n",
              "      <th></th>\n",
              "      <th>document_id</th>\n",
              "      <th>paciente_id</th>\n",
              "      <th>paciente_idade</th>\n",
              "      <th>paciente_dataNascimento</th>\n",
              "      <th>paciente_enumSexoBiologico</th>\n",
              "      <th>paciente_racaCor_codigo</th>\n",
              "      <th>paciente_racaCor_valor</th>\n",
              "      <th>paciente_endereco_coIbgeMunicipio</th>\n",
              "      <th>paciente_endereco_coPais</th>\n",
              "      <th>paciente_endereco_nmMunicipio</th>\n",
              "      <th>paciente_endereco_nmPais</th>\n",
              "      <th>paciente_endereco_uf</th>\n",
              "      <th>paciente_endereco_cep</th>\n",
              "      <th>paciente_nacionalidade_enumNacionalidade</th>\n",
              "      <th>estabelecimento_valor</th>\n",
              "      <th>estabelecimento_razaoSocial</th>\n",
              "      <th>estalecimento_noFantasia</th>\n",
              "      <th>estabelecimento_municipio_codigo</th>\n",
              "      <th>estabelecimento_municipio_nome</th>\n",
              "      <th>estabelecimento_uf</th>\n",
              "      <th>vacina_grupoAtendimento_codigo</th>\n",
              "      <th>vacina_grupoAtendimento_nome</th>\n",
              "      <th>vacina_categoria_codigo</th>\n",
              "      <th>vacina_categoria_nome</th>\n",
              "      <th>vacina_lote</th>\n",
              "      <th>vacina_fabricante_nome</th>\n",
              "      <th>vacina_fabricante_referencia</th>\n",
              "      <th>vacina_dataAplicacao</th>\n",
              "      <th>vacina_descricao_dose</th>\n",
              "      <th>vacina_codigo</th>\n",
              "      <th>vacina_nome</th>\n",
              "      <th>sistema_origem</th>\n",
              "      <th>data_importacao_rnds</th>\n",
              "      <th>id_sistema_origem</th>\n",
              "    </tr>\n",
              "  </thead>\n",
              "  <tbody>\n",
              "    <tr>\n",
              "      <th>467452</th>\n",
              "      <td>9481bee1-9232-4d1b-9b88-09413fbca2cb-i0b0</td>\n",
              "      <td>5567ccfb4bf2c8c2e43891be77fc610bfc9622780fc92e...</td>\n",
              "      <td>0</td>\n",
              "      <td>2020-08-03</td>\n",
              "      <td>F</td>\n",
              "      <td>1</td>\n",
              "      <td>BRANCA</td>\n",
              "      <td>261260.0</td>\n",
              "      <td>10.0</td>\n",
              "      <td>SANTA MARIA DA BOA VISTA</td>\n",
              "      <td>BRASIL</td>\n",
              "      <td>PE</td>\n",
              "      <td>56380.0</td>\n",
              "      <td>B</td>\n",
              "      <td>3935639</td>\n",
              "      <td>MUNICIPIO DE SANTA MARIA DA BOA VISTA</td>\n",
              "      <td>USF RAIMUNDO BEDOR</td>\n",
              "      <td>261260</td>\n",
              "      <td>SANTA MARIA DA BOA VISTA</td>\n",
              "      <td>PE</td>\n",
              "      <td>201</td>\n",
              "      <td>Pessoas de 60 a 64 anos</td>\n",
              "      <td>2.0</td>\n",
              "      <td>Faixa Etária</td>\n",
              "      <td>213VCD012Z</td>\n",
              "      <td>FUNDACAO OSWALDO CRUZ</td>\n",
              "      <td>Organization/33781055000135</td>\n",
              "      <td>2021-04-20T03:00:00.000Z</td>\n",
              "      <td>1ª Dose</td>\n",
              "      <td>85</td>\n",
              "      <td>Vacina Covid-19 - Covishield</td>\n",
              "      <td>Novo PNI</td>\n",
              "      <td>2021-04-22 21:19:10</td>\n",
              "      <td>16341</td>\n",
              "    </tr>\n",
              "    <tr>\n",
              "      <th>1415714</th>\n",
              "      <td>250c8ec7-1384-41d8-8440-cc73d4dc1c99-i0b0</td>\n",
              "      <td>65ed77a4e610bf3b73fc1eab54b4eece26bb5e694dec00...</td>\n",
              "      <td>0</td>\n",
              "      <td>2021-01-22</td>\n",
              "      <td>M</td>\n",
              "      <td>3</td>\n",
              "      <td>PARDA</td>\n",
              "      <td>292595.0</td>\n",
              "      <td>10.0</td>\n",
              "      <td>RAFAEL JAMBEIRO</td>\n",
              "      <td>BRASIL</td>\n",
              "      <td>BA</td>\n",
              "      <td>44520.0</td>\n",
              "      <td>B</td>\n",
              "      <td>1392</td>\n",
              "      <td>PREFEITURA DA CIDADE DO RECIFE</td>\n",
              "      <td>US 148 CS DOM MIGUEL DE LIMA VALVERDE</td>\n",
              "      <td>261160</td>\n",
              "      <td>RECIFE</td>\n",
              "      <td>PE</td>\n",
              "      <td>926</td>\n",
              "      <td>Outros</td>\n",
              "      <td>9.0</td>\n",
              "      <td>Trabalhadores de Saúde</td>\n",
              "      <td>202009014</td>\n",
              "      <td>FUNDACAO BUTANTAN</td>\n",
              "      <td>Organization/61189445000156</td>\n",
              "      <td>2021-01-22T03:00:00.000Z</td>\n",
              "      <td>1ª Dose</td>\n",
              "      <td>86</td>\n",
              "      <td>Covid-19-Coronavac-Sinovac/Butantan</td>\n",
              "      <td>Novo PNI</td>\n",
              "      <td>2021-02-15 12:41:11</td>\n",
              "      <td>16341</td>\n",
              "    </tr>\n",
              "  </tbody>\n",
              "</table>\n",
              "</div>"
            ],
            "text/plain": [
              "                                       document_id  ... id_sistema_origem\n",
              "467452   9481bee1-9232-4d1b-9b88-09413fbca2cb-i0b0  ...             16341\n",
              "1415714  250c8ec7-1384-41d8-8440-cc73d4dc1c99-i0b0  ...             16341\n",
              "\n",
              "[2 rows x 34 columns]"
            ]
          },
          "metadata": {
            "tags": []
          },
          "execution_count": 12
        }
      ]
    },
    {
      "cell_type": "code",
      "metadata": {
        "id": "zEZNn1OHNwym"
      },
      "source": [
        "df.vacina_dataAplicacao = pd.to_datetime(df.vacina_dataAplicacao)"
      ],
      "execution_count": 13,
      "outputs": []
    },
    {
      "cell_type": "code",
      "metadata": {
        "id": "bzkSxPmMQFo2"
      },
      "source": [
        "df['vacina_dataAplicacao_date'] = df.vacina_dataAplicacao.dt.date"
      ],
      "execution_count": 14,
      "outputs": []
    },
    {
      "cell_type": "code",
      "metadata": {
        "colab": {
          "base_uri": "https://localhost:8080/"
        },
        "id": "I6orlK-TQjp8",
        "outputId": "05b44ce8-1cc6-4394-ef07-73396ac5abb2"
      },
      "source": [
        "df.vacina_dataAplicacao_date.value_counts()"
      ],
      "execution_count": 15,
      "outputs": [
        {
          "output_type": "execute_result",
          "data": {
            "text/plain": [
              "2021-03-30    54740\n",
              "2021-03-29    50386\n",
              "2021-03-24    47303\n",
              "2021-03-25    44261\n",
              "2021-04-20    43342\n",
              "              ...  \n",
              "2021-01-24     1324\n",
              "2021-02-07      524\n",
              "2021-01-18       28\n",
              "2021-01-17        9\n",
              "2021-01-12        5\n",
              "Name: vacina_dataAplicacao_date, Length: 102, dtype: int64"
            ]
          },
          "metadata": {
            "tags": []
          },
          "execution_count": 15
        }
      ]
    },
    {
      "cell_type": "code",
      "metadata": {
        "colab": {
          "base_uri": "https://localhost:8080/"
        },
        "id": "C6XFyEUlS6yD",
        "outputId": "da6dbf9b-b444-4b34-c5ae-264d8472cb0c"
      },
      "source": [
        "df.vacina_dataAplicacao.sort_values()"
      ],
      "execution_count": 16,
      "outputs": [
        {
          "output_type": "execute_result",
          "data": {
            "text/plain": [
              "1540170   2021-01-12 00:00:00+00:00\n",
              "1121270   2021-01-12 00:00:00+00:00\n",
              "187662    2021-01-12 00:00:00+00:00\n",
              "1263954   2021-01-12 00:00:00+00:00\n",
              "1548713   2021-01-12 00:00:00+00:00\n",
              "                     ...           \n",
              "494614    2021-04-27 03:00:00+00:00\n",
              "581524    2021-04-27 03:00:00+00:00\n",
              "581516    2021-04-27 03:00:00+00:00\n",
              "481620    2021-04-27 03:00:00+00:00\n",
              "573630    2021-04-27 03:00:00+00:00\n",
              "Name: vacina_dataAplicacao, Length: 1677634, dtype: datetime64[ns, UTC]"
            ]
          },
          "metadata": {
            "tags": []
          },
          "execution_count": 16
        }
      ]
    },
    {
      "cell_type": "code",
      "metadata": {
        "id": "9VoCU01NUOLs",
        "colab": {
          "base_uri": "https://localhost:8080/"
        },
        "outputId": "79a614a0-720e-43c5-fad3-d4c49bc9ecb1"
      },
      "source": [
        "df['vacina_grupoAtendimento_nome'].unique()"
      ],
      "execution_count": 21,
      "outputs": [
        {
          "output_type": "execute_result",
          "data": {
            "text/plain": [
              "array(['Pessoas de 80 anos ou mais', 'Pessoas de 70 a 74 anos',\n",
              "       'Pessoas de 65 a 69 anos', 'Pessoas de 75 a 79 anos',\n",
              "       'Pessoas de 60 a 64 anos', 'Outros', 'Quilombola',\n",
              "       'Policial Militar', 'Povos indígenas em terras indígenas',\n",
              "       'Enfermeiro(a)', 'Recepcionista',\n",
              "       'Pessoas de 60 nos ou mais Institucionalizadas',\n",
              "       'Técnico de Enfermagem', 'Nutricionista', 'Policial Civil',\n",
              "       'Funcionário do Sistema Funerário c/ cadáveres potencialmente contaminados',\n",
              "       'Odontologista', 'Fisioterapeutas', 'Pessoal da Limpeza',\n",
              "       'Psicólogo', 'Médico', 'Biomédico', 'Segurança',\n",
              "       'Pessoas com Deficiência Institucionalizadas',\n",
              "       'Técnico de Odontologia', 'Farmacêutico',\n",
              "       'Cozinheiro e Auxiliares', 'Fonoaudiólogo', 'Cuidador de Idosos',\n",
              "       'Motorista de Ambulância', 'Assistente Social',\n",
              "       'Auxiliar de Enfermagem', 'Obesidade Grave (Imc>=40)',\n",
              "       'Profissionais de Educação Física', 'Trabalhadores Industriais',\n",
              "       'Estudante', nan, 'Terapeuta Ocupacional',\n",
              "       'Pessoas com Deficiências Permanente Grave',\n",
              "       'Doenças Cardiovasculares e Cerebrovasculares', 'Bombeiro Militar',\n",
              "       'Diabetes Mellitus', 'Trabalhadores Portuários',\n",
              "       'Auxiliar de Veterinário', 'Síndrome de Down',\n",
              "       'Hipertensão de difícil controle ou com complicações/lesão de órgão alvo',\n",
              "       'Médico Veterinário', 'Guarda Municipal', 'Doula/Parteira',\n",
              "       'Policial Rodoviário Federal',\n",
              "       'Doença Pulmonar Obstrutiva Crônica', 'Doença Renal',\n",
              "       'Ensino Básico', 'Biólogo',\n",
              "       'Funcionário do Sistema de Privação de Liberdade', 'Câncer',\n",
              "       'Ensino Superior', 'Policial Federal', 'Bombeiro Civil',\n",
              "       'Pessoas em Situação de Rua', 'Técnico de Veterinário',\n",
              "       'Indivíduos Transplantados de Órgão Sólido', 'Anemia Falciforme',\n",
              "       'Força Aérea Brasileira - FAB', 'Ribeirinha',\n",
              "       'Exército Brasileiro - EB', 'População Privada de Liberdade'],\n",
              "      dtype=object)"
            ]
          },
          "metadata": {
            "tags": []
          },
          "execution_count": 21
        }
      ]
    },
    {
      "cell_type": "code",
      "metadata": {
        "colab": {
          "base_uri": "https://localhost:8080/"
        },
        "id": "JAUQ4nRupS7t",
        "outputId": "e1428fc8-cb8e-4561-ac93-7090650f05ab"
      },
      "source": [
        "print('De %s até %s anos' % (df.paciente_idade.min(), df.paciente_idade.max()))"
      ],
      "execution_count": 23,
      "outputs": [
        {
          "output_type": "stream",
          "text": [
            "De 0 até 121 anos\n"
          ],
          "name": "stdout"
        }
      ]
    },
    {
      "cell_type": "code",
      "metadata": {
        "colab": {
          "base_uri": "https://localhost:8080/"
        },
        "id": "4rASr97DymxT",
        "outputId": "9fda449a-cb39-4923-9d9b-ff94a0b0cf20"
      },
      "source": [
        "df.paciente_racaCor_valor.value_counts()"
      ],
      "execution_count": 41,
      "outputs": [
        {
          "output_type": "execute_result",
          "data": {
            "text/plain": [
              "SEM INFORMACAO    518285\n",
              "PARDA             406457\n",
              "AMARELA           353606\n",
              "BRANCA            302323\n",
              "PRETA              56195\n",
              "INDIGENA           40768\n",
              "Name: paciente_racaCor_valor, dtype: int64"
            ]
          },
          "metadata": {
            "tags": []
          },
          "execution_count": 41
        }
      ]
    },
    {
      "cell_type": "code",
      "metadata": {
        "colab": {
          "base_uri": "https://localhost:8080/"
        },
        "id": "sv_QTL1ZvA-a",
        "outputId": "0d5bd81b-a371-4878-e293-a96fbbb2d444"
      },
      "source": [
        "df.paciente_idade.value_counts(normalize=True) * 100"
      ],
      "execution_count": 30,
      "outputs": [
        {
          "output_type": "execute_result",
          "data": {
            "text/plain": [
              "70     4.360307\n",
              "71     4.180828\n",
              "72     4.027696\n",
              "73     3.898824\n",
              "65     3.780980\n",
              "         ...   \n",
              "10     0.000060\n",
              "119    0.000060\n",
              "3      0.000060\n",
              "2      0.000060\n",
              "120    0.000060\n",
              "Name: paciente_idade, Length: 120, dtype: float64"
            ]
          },
          "metadata": {
            "tags": []
          },
          "execution_count": 30
        }
      ]
    },
    {
      "cell_type": "code",
      "metadata": {
        "colab": {
          "base_uri": "https://localhost:8080/"
        },
        "id": "f1-XcWrUvpnN",
        "outputId": "512b8502-906f-45ff-cb89-9e14c81a8adb"
      },
      "source": [
        "frequencia = df['paciente_enumSexoBiologico'].value_counts()\n",
        "frequencia"
      ],
      "execution_count": 31,
      "outputs": [
        {
          "output_type": "execute_result",
          "data": {
            "text/plain": [
              "F    1016841\n",
              "M     660793\n",
              "Name: paciente_enumSexoBiologico, dtype: int64"
            ]
          },
          "metadata": {
            "tags": []
          },
          "execution_count": 31
        }
      ]
    },
    {
      "cell_type": "code",
      "metadata": {
        "colab": {
          "base_uri": "https://localhost:8080/"
        },
        "id": "EFcTDc1Wolfx",
        "outputId": "cf623faf-d8fb-4efe-99e2-7888429950a9"
      },
      "source": [
        "percentual = df.paciente_enumSexoBiologico.value_counts(normalize=True) * 100\n",
        "percentual"
      ],
      "execution_count": 32,
      "outputs": [
        {
          "output_type": "execute_result",
          "data": {
            "text/plain": [
              "F    60.611611\n",
              "M    39.388389\n",
              "Name: paciente_enumSexoBiologico, dtype: float64"
            ]
          },
          "metadata": {
            "tags": []
          },
          "execution_count": 32
        }
      ]
    },
    {
      "cell_type": "code",
      "metadata": {
        "id": "lds1iC7Hu0ne"
      },
      "source": [
        "dist_freq_qualitativas = pd.DataFrame({'Frequência': frequencia,\n",
        "                                       'Porcentagem (%)': percentual})"
      ],
      "execution_count": 33,
      "outputs": []
    },
    {
      "cell_type": "code",
      "metadata": {
        "colab": {
          "base_uri": "https://localhost:8080/",
          "height": 107
        },
        "id": "8znRzvJ1woKm",
        "outputId": "00fe15ab-a04f-4370-e44d-203a0a4f0531"
      },
      "source": [
        "dist_freq_qualitativas"
      ],
      "execution_count": 34,
      "outputs": [
        {
          "output_type": "execute_result",
          "data": {
            "text/html": [
              "<div>\n",
              "<style scoped>\n",
              "    .dataframe tbody tr th:only-of-type {\n",
              "        vertical-align: middle;\n",
              "    }\n",
              "\n",
              "    .dataframe tbody tr th {\n",
              "        vertical-align: top;\n",
              "    }\n",
              "\n",
              "    .dataframe thead th {\n",
              "        text-align: right;\n",
              "    }\n",
              "</style>\n",
              "<table border=\"1\" class=\"dataframe\">\n",
              "  <thead>\n",
              "    <tr style=\"text-align: right;\">\n",
              "      <th></th>\n",
              "      <th>Frequência</th>\n",
              "      <th>Porcentagem (%)</th>\n",
              "    </tr>\n",
              "  </thead>\n",
              "  <tbody>\n",
              "    <tr>\n",
              "      <th>F</th>\n",
              "      <td>1016841</td>\n",
              "      <td>60.611611</td>\n",
              "    </tr>\n",
              "    <tr>\n",
              "      <th>M</th>\n",
              "      <td>660793</td>\n",
              "      <td>39.388389</td>\n",
              "    </tr>\n",
              "  </tbody>\n",
              "</table>\n",
              "</div>"
            ],
            "text/plain": [
              "   Frequência  Porcentagem (%)\n",
              "F     1016841        60.611611\n",
              "M      660793        39.388389"
            ]
          },
          "metadata": {
            "tags": []
          },
          "execution_count": 34
        }
      ]
    },
    {
      "cell_type": "code",
      "metadata": {
        "id": "y3qUzkwdwpUJ"
      },
      "source": [
        "dist_freq_qualitativas.rename_axis('Sexo', axis='columns', inplace=True)"
      ],
      "execution_count": 39,
      "outputs": []
    },
    {
      "cell_type": "code",
      "metadata": {
        "colab": {
          "base_uri": "https://localhost:8080/",
          "height": 107
        },
        "id": "RrSU8PxNxg7z",
        "outputId": "efdec59e-1b2b-4fe9-a239-ed0bd56bd0a6"
      },
      "source": [
        "dist_freq_qualitativas"
      ],
      "execution_count": 40,
      "outputs": [
        {
          "output_type": "execute_result",
          "data": {
            "text/html": [
              "<div>\n",
              "<style scoped>\n",
              "    .dataframe tbody tr th:only-of-type {\n",
              "        vertical-align: middle;\n",
              "    }\n",
              "\n",
              "    .dataframe tbody tr th {\n",
              "        vertical-align: top;\n",
              "    }\n",
              "\n",
              "    .dataframe thead th {\n",
              "        text-align: right;\n",
              "    }\n",
              "</style>\n",
              "<table border=\"1\" class=\"dataframe\">\n",
              "  <thead>\n",
              "    <tr style=\"text-align: right;\">\n",
              "      <th>Sexo</th>\n",
              "      <th>Frequência</th>\n",
              "      <th>Porcentagem (%)</th>\n",
              "    </tr>\n",
              "  </thead>\n",
              "  <tbody>\n",
              "    <tr>\n",
              "      <th>F</th>\n",
              "      <td>1016841</td>\n",
              "      <td>60.611611</td>\n",
              "    </tr>\n",
              "    <tr>\n",
              "      <th>M</th>\n",
              "      <td>660793</td>\n",
              "      <td>39.388389</td>\n",
              "    </tr>\n",
              "  </tbody>\n",
              "</table>\n",
              "</div>"
            ],
            "text/plain": [
              "Sexo  Frequência  Porcentagem (%)\n",
              "F        1016841        60.611611\n",
              "M         660793        39.388389"
            ]
          },
          "metadata": {
            "tags": []
          },
          "execution_count": 40
        }
      ]
    },
    {
      "cell_type": "code",
      "metadata": {
        "colab": {
          "base_uri": "https://localhost:8080/",
          "height": 430
        },
        "id": "2wgKOO0xxioc",
        "outputId": "56dd6e38-c29b-4c34-f2ed-5abcb8559b3c"
      },
      "source": [
        "ax = sns.histplot(df.paciente_enumSexoBiologico)\n",
        "\n",
        "ax.figure.set_size_inches(12, 6)\n",
        "ax.set_title('Distribuição de Frequências - Sexo Biológico',\n",
        "             fontsize=18)\n",
        "ax"
      ],
      "execution_count": 46,
      "outputs": [
        {
          "output_type": "execute_result",
          "data": {
            "text/plain": [
              "<matplotlib.axes._subplots.AxesSubplot at 0x7fc614485c90>"
            ]
          },
          "metadata": {
            "tags": []
          },
          "execution_count": 46
        },
        {
          "output_type": "display_data",
          "data": {
            "image/png": "[encoded data removed]",
            "text/plain": [
              "<Figure size 864x432 with 1 Axes>"
            ]
          },
          "metadata": {
            "tags": []
          }
        }
      ]
    },
    {
      "cell_type": "code",
      "metadata": {
        "colab": {
          "base_uri": "https://localhost:8080/",
          "height": 404
        },
        "id": "BA8ThXrs0CmM",
        "outputId": "5b3affe9-fffe-4249-dbba-28c448791054"
      },
      "source": [
        "dist_freq_qualitativas['Frequência'].plot.bar(width=1,\n",
        "                                              color='purple',\n",
        "                                              alpha=.5,\n",
        "                                              figsize=(12, 6))"
      ],
      "execution_count": 53,
      "outputs": [
        {
          "output_type": "execute_result",
          "data": {
            "text/plain": [
              "<matplotlib.axes._subplots.AxesSubplot at 0x7fc6143d6150>"
            ]
          },
          "metadata": {
            "tags": []
          },
          "execution_count": 53
        },
        {
          "output_type": "display_data",
          "data": {
            "image/png": "[encoded data removed]",
            "text/plain": [
              "<Figure size 864x432 with 1 Axes>"
            ]
          },
          "metadata": {
            "tags": []
          }
        }
      ]
    },
    {
      "cell_type": "code",
      "metadata": {
        "colab": {
          "base_uri": "https://localhost:8080/"
        },
        "id": "XdtI_2iO1QtL",
        "outputId": "065bc05b-c372-45a3-d7eb-a0fadf637094"
      },
      "source": [
        "df.groupby(['paciente_racaCor_valor'])['paciente_idade'].mean()"
      ],
      "execution_count": 55,
      "outputs": [
        {
          "output_type": "execute_result",
          "data": {
            "text/plain": [
              "paciente_racaCor_valor\n",
              "AMARELA           64.345622\n",
              "BRANCA            63.779868\n",
              "INDIGENA          42.705553\n",
              "PARDA             64.161343\n",
              "PRETA             64.341578\n",
              "SEM INFORMACAO    64.294853\n",
              "Name: paciente_idade, dtype: float64"
            ]
          },
          "metadata": {
            "tags": []
          },
          "execution_count": 55
        }
      ]
    },
    {
      "cell_type": "code",
      "metadata": {
        "id": "I2shDW-U6APY"
      },
      "source": [
        ""
      ],
      "execution_count": null,
      "outputs": []
    }
  ]
}