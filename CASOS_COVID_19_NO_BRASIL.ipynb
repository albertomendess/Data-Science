{
  "nbformat": 4,
  "nbformat_minor": 0,
  "metadata": {
    "colab": {
      "name": "CASOS COVID-19 NO BRASIL.ipynb",
      "provenance": [],
      "collapsed_sections": [],
      "mount_file_id": "1mZuwGqaqEN5Sjv4lC2DDT5UIUFguys-7",
      "authorship_tag": "ABX9TyMiw+pZqxqeqA5tjij24RNv",
      "include_colab_link": true
    },
    "kernelspec": {
      "name": "python3",
      "display_name": "Python 3"
    },
    "language_info": {
      "name": "python"
    }
  },
  "cells": [
    {
      "cell_type": "markdown",
      "metadata": {
        "id": "view-in-github",
        "colab_type": "text"
      },
      "source": [
        "<a href=\"https://colab.research.google.com/github/albertomendess/Data-Science/blob/main/CASOS_COVID_19_NO_BRASIL.ipynb\" target=\"_parent\"><img src=\"https://colab.research.google.com/assets/colab-badge.svg\" alt=\"Open In Colab\"/></a>"
      ]
    },
    {
      "cell_type": "code",
      "metadata": {
        "id": "sGvODqnTI7dj"
      },
      "source": [
        "import pandas as pd"
      ],
      "execution_count": 1,
      "outputs": []
    },
    {
      "cell_type": "code",
      "metadata": {
        "id": "KOgkWUIzJ-w6"
      },
      "source": [
        "covid_br = pd.read_csv('/content/drive/MyDrive/HIST_PAINEL_COVIDBR_04abr2021.csv', sep=\";\")"
      ],
      "execution_count": 2,
      "outputs": []
    },
    {
      "cell_type": "code",
      "metadata": {
        "colab": {
          "base_uri": "https://localhost:8080/",
          "height": 299
        },
        "id": "XyXrb5k3c4LN",
        "outputId": "9911101c-2806-4fb2-df2a-da5f2e584378"
      },
      "source": [
        "covid_br.head()"
      ],
      "execution_count": 3,
      "outputs": [
        {
          "output_type": "execute_result",
          "data": {
            "text/html": [
              "<div>\n",
              "<style scoped>\n",
              "    .dataframe tbody tr th:only-of-type {\n",
              "        vertical-align: middle;\n",
              "    }\n",
              "\n",
              "    .dataframe tbody tr th {\n",
              "        vertical-align: top;\n",
              "    }\n",
              "\n",
              "    .dataframe thead th {\n",
              "        text-align: right;\n",
              "    }\n",
              "</style>\n",
              "<table border=\"1\" class=\"dataframe\">\n",
              "  <thead>\n",
              "    <tr style=\"text-align: right;\">\n",
              "      <th></th>\n",
              "      <th>regiao</th>\n",
              "      <th>estado</th>\n",
              "      <th>municipio</th>\n",
              "      <th>coduf</th>\n",
              "      <th>codmun</th>\n",
              "      <th>codRegiaoSaude</th>\n",
              "      <th>nomeRegiaoSaude</th>\n",
              "      <th>data</th>\n",
              "      <th>semanaEpi</th>\n",
              "      <th>populacaoTCU2019</th>\n",
              "      <th>casosAcumulado</th>\n",
              "      <th>casosNovos</th>\n",
              "      <th>obitosAcumulado</th>\n",
              "      <th>obitosNovos</th>\n",
              "      <th>Recuperadosnovos</th>\n",
              "      <th>emAcompanhamentoNovos</th>\n",
              "      <th>interior/metropolitana</th>\n",
              "    </tr>\n",
              "  </thead>\n",
              "  <tbody>\n",
              "    <tr>\n",
              "      <th>0</th>\n",
              "      <td>Brasil</td>\n",
              "      <td>NaN</td>\n",
              "      <td>NaN</td>\n",
              "      <td>76</td>\n",
              "      <td>NaN</td>\n",
              "      <td>NaN</td>\n",
              "      <td>NaN</td>\n",
              "      <td>2020-02-25</td>\n",
              "      <td>9</td>\n",
              "      <td>210147125.0</td>\n",
              "      <td>0</td>\n",
              "      <td>0</td>\n",
              "      <td>0</td>\n",
              "      <td>0</td>\n",
              "      <td>NaN</td>\n",
              "      <td>NaN</td>\n",
              "      <td>NaN</td>\n",
              "    </tr>\n",
              "    <tr>\n",
              "      <th>1</th>\n",
              "      <td>Brasil</td>\n",
              "      <td>NaN</td>\n",
              "      <td>NaN</td>\n",
              "      <td>76</td>\n",
              "      <td>NaN</td>\n",
              "      <td>NaN</td>\n",
              "      <td>NaN</td>\n",
              "      <td>2020-02-26</td>\n",
              "      <td>9</td>\n",
              "      <td>210147125.0</td>\n",
              "      <td>1</td>\n",
              "      <td>1</td>\n",
              "      <td>0</td>\n",
              "      <td>0</td>\n",
              "      <td>NaN</td>\n",
              "      <td>NaN</td>\n",
              "      <td>NaN</td>\n",
              "    </tr>\n",
              "    <tr>\n",
              "      <th>2</th>\n",
              "      <td>Brasil</td>\n",
              "      <td>NaN</td>\n",
              "      <td>NaN</td>\n",
              "      <td>76</td>\n",
              "      <td>NaN</td>\n",
              "      <td>NaN</td>\n",
              "      <td>NaN</td>\n",
              "      <td>2020-02-27</td>\n",
              "      <td>9</td>\n",
              "      <td>210147125.0</td>\n",
              "      <td>1</td>\n",
              "      <td>0</td>\n",
              "      <td>0</td>\n",
              "      <td>0</td>\n",
              "      <td>NaN</td>\n",
              "      <td>NaN</td>\n",
              "      <td>NaN</td>\n",
              "    </tr>\n",
              "    <tr>\n",
              "      <th>3</th>\n",
              "      <td>Brasil</td>\n",
              "      <td>NaN</td>\n",
              "      <td>NaN</td>\n",
              "      <td>76</td>\n",
              "      <td>NaN</td>\n",
              "      <td>NaN</td>\n",
              "      <td>NaN</td>\n",
              "      <td>2020-02-28</td>\n",
              "      <td>9</td>\n",
              "      <td>210147125.0</td>\n",
              "      <td>1</td>\n",
              "      <td>0</td>\n",
              "      <td>0</td>\n",
              "      <td>0</td>\n",
              "      <td>NaN</td>\n",
              "      <td>NaN</td>\n",
              "      <td>NaN</td>\n",
              "    </tr>\n",
              "    <tr>\n",
              "      <th>4</th>\n",
              "      <td>Brasil</td>\n",
              "      <td>NaN</td>\n",
              "      <td>NaN</td>\n",
              "      <td>76</td>\n",
              "      <td>NaN</td>\n",
              "      <td>NaN</td>\n",
              "      <td>NaN</td>\n",
              "      <td>2020-02-29</td>\n",
              "      <td>9</td>\n",
              "      <td>210147125.0</td>\n",
              "      <td>2</td>\n",
              "      <td>1</td>\n",
              "      <td>0</td>\n",
              "      <td>0</td>\n",
              "      <td>NaN</td>\n",
              "      <td>NaN</td>\n",
              "      <td>NaN</td>\n",
              "    </tr>\n",
              "  </tbody>\n",
              "</table>\n",
              "</div>"
            ],
            "text/plain": [
              "   regiao estado  ... emAcompanhamentoNovos  interior/metropolitana\n",
              "0  Brasil    NaN  ...                   NaN                     NaN\n",
              "1  Brasil    NaN  ...                   NaN                     NaN\n",
              "2  Brasil    NaN  ...                   NaN                     NaN\n",
              "3  Brasil    NaN  ...                   NaN                     NaN\n",
              "4  Brasil    NaN  ...                   NaN                     NaN\n",
              "\n",
              "[5 rows x 17 columns]"
            ]
          },
          "metadata": {
            "tags": []
          },
          "execution_count": 3
        }
      ]
    },
    {
      "cell_type": "code",
      "metadata": {
        "colab": {
          "base_uri": "https://localhost:8080/"
        },
        "id": "chpS3f8kdFwn",
        "outputId": "c4b1a945-1a78-4647-c3f5-92db89667a30"
      },
      "source": [
        "covid_br.shape"
      ],
      "execution_count": null,
      "outputs": [
        {
          "output_type": "execute_result",
          "data": {
            "text/plain": [
              "(2102376, 17)"
            ]
          },
          "metadata": {
            "tags": []
          },
          "execution_count": 6
        }
      ]
    },
    {
      "cell_type": "code",
      "metadata": {
        "colab": {
          "base_uri": "https://localhost:8080/"
        },
        "id": "smNbvT8QdO-s",
        "outputId": "d5fcda38-89bb-44cf-a39b-1bfff7cfdcd6"
      },
      "source": [
        "covid_br['obitosNovos']"
      ],
      "execution_count": null,
      "outputs": [
        {
          "output_type": "execute_result",
          "data": {
            "text/plain": [
              "0            0\n",
              "1            0\n",
              "2            0\n",
              "3            0\n",
              "4            0\n",
              "          ... \n",
              "2102371    117\n",
              "2102372    121\n",
              "2102373     57\n",
              "2102374     28\n",
              "2102375     53\n",
              "Name: obitosNovos, Length: 2102376, dtype: int64"
            ]
          },
          "metadata": {
            "tags": []
          },
          "execution_count": 7
        }
      ]
    },
    {
      "cell_type": "code",
      "metadata": {
        "id": "VRJQm_82t9Z9"
      },
      "source": [
        "selecao = (covid_br['municipio'] == 'Afogados da Ingazeira') == True\n",
        "dados_afogadosDaIngazeira = covid_br.loc[selecao,['data', 'municipio', 'obitosAcumulado']]"
      ],
      "execution_count": 22,
      "outputs": []
    },
    {
      "cell_type": "code",
      "metadata": {
        "colab": {
          "base_uri": "https://localhost:8080/",
          "height": 402
        },
        "id": "LJ0QVJdI5ADK",
        "outputId": "ff9136ef-e459-49e2-a9db-144876cb073c"
      },
      "source": [
        "dados_afogadosDaIngazeira"
      ],
      "execution_count": 23,
      "outputs": [
        {
          "output_type": "execute_result",
          "data": {
            "text/html": [
              "<div>\n",
              "<style scoped>\n",
              "    .dataframe tbody tr th:only-of-type {\n",
              "        vertical-align: middle;\n",
              "    }\n",
              "\n",
              "    .dataframe tbody tr th {\n",
              "        vertical-align: top;\n",
              "    }\n",
              "\n",
              "    .dataframe thead th {\n",
              "        text-align: right;\n",
              "    }\n",
              "</style>\n",
              "<table border=\"1\" class=\"dataframe\">\n",
              "  <thead>\n",
              "    <tr style=\"text-align: right;\">\n",
              "      <th></th>\n",
              "      <th>data</th>\n",
              "      <th>municipio</th>\n",
              "      <th>obitosAcumulado</th>\n",
              "    </tr>\n",
              "  </thead>\n",
              "  <tbody>\n",
              "    <tr>\n",
              "      <th>562992</th>\n",
              "      <td>2020-03-27</td>\n",
              "      <td>Afogados da Ingazeira</td>\n",
              "      <td>0</td>\n",
              "    </tr>\n",
              "    <tr>\n",
              "      <th>562993</th>\n",
              "      <td>2020-03-28</td>\n",
              "      <td>Afogados da Ingazeira</td>\n",
              "      <td>0</td>\n",
              "    </tr>\n",
              "    <tr>\n",
              "      <th>562994</th>\n",
              "      <td>2020-03-29</td>\n",
              "      <td>Afogados da Ingazeira</td>\n",
              "      <td>0</td>\n",
              "    </tr>\n",
              "    <tr>\n",
              "      <th>562995</th>\n",
              "      <td>2020-03-30</td>\n",
              "      <td>Afogados da Ingazeira</td>\n",
              "      <td>0</td>\n",
              "    </tr>\n",
              "    <tr>\n",
              "      <th>562996</th>\n",
              "      <td>2020-03-31</td>\n",
              "      <td>Afogados da Ingazeira</td>\n",
              "      <td>0</td>\n",
              "    </tr>\n",
              "    <tr>\n",
              "      <th>...</th>\n",
              "      <td>...</td>\n",
              "      <td>...</td>\n",
              "      <td>...</td>\n",
              "    </tr>\n",
              "    <tr>\n",
              "      <th>563361</th>\n",
              "      <td>2021-03-31</td>\n",
              "      <td>Afogados da Ingazeira</td>\n",
              "      <td>43</td>\n",
              "    </tr>\n",
              "    <tr>\n",
              "      <th>563362</th>\n",
              "      <td>2021-04-01</td>\n",
              "      <td>Afogados da Ingazeira</td>\n",
              "      <td>43</td>\n",
              "    </tr>\n",
              "    <tr>\n",
              "      <th>563363</th>\n",
              "      <td>2021-04-02</td>\n",
              "      <td>Afogados da Ingazeira</td>\n",
              "      <td>43</td>\n",
              "    </tr>\n",
              "    <tr>\n",
              "      <th>563364</th>\n",
              "      <td>2021-04-03</td>\n",
              "      <td>Afogados da Ingazeira</td>\n",
              "      <td>43</td>\n",
              "    </tr>\n",
              "    <tr>\n",
              "      <th>563365</th>\n",
              "      <td>2021-04-04</td>\n",
              "      <td>Afogados da Ingazeira</td>\n",
              "      <td>43</td>\n",
              "    </tr>\n",
              "  </tbody>\n",
              "</table>\n",
              "<p>374 rows × 3 columns</p>\n",
              "</div>"
            ],
            "text/plain": [
              "              data              municipio  obitosAcumulado\n",
              "562992  2020-03-27  Afogados da Ingazeira                0\n",
              "562993  2020-03-28  Afogados da Ingazeira                0\n",
              "562994  2020-03-29  Afogados da Ingazeira                0\n",
              "562995  2020-03-30  Afogados da Ingazeira                0\n",
              "562996  2020-03-31  Afogados da Ingazeira                0\n",
              "...            ...                    ...              ...\n",
              "563361  2021-03-31  Afogados da Ingazeira               43\n",
              "563362  2021-04-01  Afogados da Ingazeira               43\n",
              "563363  2021-04-02  Afogados da Ingazeira               43\n",
              "563364  2021-04-03  Afogados da Ingazeira               43\n",
              "563365  2021-04-04  Afogados da Ingazeira               43\n",
              "\n",
              "[374 rows x 3 columns]"
            ]
          },
          "metadata": {
            "tags": []
          },
          "execution_count": 23
        }
      ]
    },
    {
      "cell_type": "code",
      "metadata": {
        "id": "yG-J8jxl-I1E"
      },
      "source": [
        ""
      ],
      "execution_count": null,
      "outputs": []
    }
  ]
}