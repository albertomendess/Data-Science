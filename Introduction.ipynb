{
 "cells": [
  {
   "cell_type": "markdown",
   "metadata": {},
   "source": [
    "## Vizualizando Dados"
   ]
  },
  {
   "cell_type": "code",
   "execution_count": null,
   "metadata": {},
   "outputs": [],
   "source": [
    "from matplotlib import pyplot as plt"
   ]
  },
  {
   "cell_type": "code",
   "execution_count": null,
   "metadata": {},
   "outputs": [],
   "source": [
    "years = [1950, 1960, 1970, 1980, 1990, 2000, 2010]"
   ]
  },
  {
   "cell_type": "code",
   "execution_count": null,
   "metadata": {},
   "outputs": [],
   "source": [
    "gdp = [300.2, 543.3, 1075.9, 2862.5, 5979.6, 10289.7, 14958.3]"
   ]
  },
  {
   "cell_type": "code",
   "execution_count": null,
   "metadata": {},
   "outputs": [],
   "source": [
    "# Cria um gráfico de linha, anos no eixo x, gdp no eixo y.\n",
    "plt.plot(years, gdp, color='green', marker='o', linestyle='solid')\n",
    "\n",
    "# Adiciona um título.\n",
    "plt.title(\"GDP Nominal\")\n",
    "\n",
    "# Adiciona um selo no eixo y.\n",
    "plt.ylabel(\"Bilhões de $\")\n",
    "\n",
    "plt.show()"
   ]
  },
  {
   "cell_type": "code",
   "execution_count": null,
   "metadata": {},
   "outputs": [],
   "source": [
    "movies = [\"Annie Hall\", \"Ben-Hur\", \"Casablanca\", \"Gandhi\", \"West Side Story\"]"
   ]
  },
  {
   "cell_type": "code",
   "execution_count": null,
   "metadata": {},
   "outputs": [],
   "source": [
    "num_oscars = [5, 11, 3, 8, 10]"
   ]
  },
  {
   "cell_type": "code",
   "execution_count": null,
   "metadata": {},
   "outputs": [],
   "source": [
    "# Barras possuem o tamanho padrão de 0.8, então adicionaremos 0.1 às\n",
    "# coordenadas à esquerda para que cada barra seja centralizada.\n",
    "xs = [i + 0.1 for i, _ in enumerate(movies)]"
   ]
  },
  {
   "cell_type": "code",
   "execution_count": null,
   "metadata": {},
   "outputs": [],
   "source": [
    "# As barras do gráfico com as coordenadas x à esquerda [xs], alturas [num_oscars]\n",
    "plt.bar(xs, num_oscars)\n",
    "\n",
    "plt.ylabel(\"# de Premiações\")\n",
    "plt.title(\"Meus filmes Favoritos\")\n",
    "\n",
    "# Nomeia o eixo x com nomes de filmes na barra central.\n",
    "plt.xticks([i + 0.1 for i, _ in enumerate(movies)], movies)\n",
    "\n",
    "plt.show()"
   ]
  },
  {
   "cell_type": "code",
   "execution_count": null,
   "metadata": {},
   "outputs": [],
   "source": [
    "import collections"
   ]
  },
  {
   "cell_type": "code",
   "execution_count": null,
   "metadata": {},
   "outputs": [],
   "source": [
    "grades = [83, 95, 91, 87, 70, 0, 85, 82, 100, 67, 73, 77, 0]"
   ]
  },
  {
   "cell_type": "code",
   "execution_count": null,
   "metadata": {},
   "outputs": [],
   "source": [
    "decile = lambda grade: grade // 10 * 10"
   ]
  },
  {
   "cell_type": "code",
   "execution_count": null,
   "metadata": {},
   "outputs": [],
   "source": [
    "histogram = collections.Counter(decile(grade) for grade in grades)\n",
    "\n",
    "plt.bar([x - 0.1 for x in histogram.keys()],\n",
    "        histogram.values(), 7)\n",
    "\n",
    "plt.axis([-5, 105, 0, 5])\n",
    "\n",
    "plt.xticks([10 * i for i in range(11)])\n",
    "plt.xlabel(\"Proximidade\")\n",
    "plt.ylabel(\"# de Alunos\")\n",
    "plt.title(\"Distribuição das Notas do Teste 1\")\n",
    "plt.show()"
   ]
  },
  {
   "cell_type": "code",
   "execution_count": null,
   "metadata": {},
   "outputs": [],
   "source": [
    "mentions = [500, 505]"
   ]
  },
  {
   "cell_type": "code",
   "execution_count": null,
   "metadata": {},
   "outputs": [],
   "source": [
    "years = [2013, 2014]"
   ]
  },
  {
   "cell_type": "code",
   "execution_count": null,
   "metadata": {},
   "outputs": [],
   "source": [
    "plt.bar([2013, 2014], mentions, 0.8)\n",
    "plt.xticks(years)\n",
    "plt.ylabel(\"# de vezes que ouvimos alguém dizer 'data science'\")\n",
    "\n",
    "plt.ticklabel_format(useOffset=False)\n",
    "\n",
    "plt.axis([2012.5, 2014.5, 499, 506])\n",
    "plt.title(\"Olhe o 'Grande Aumento!'\")\n",
    "plt.show()"
   ]
  },
  {
   "cell_type": "code",
   "execution_count": null,
   "metadata": {},
   "outputs": [],
   "source": [
    "plt.bar([2013, 2014], mentions, 0.8)\n",
    "plt.xticks(years)\n",
    "plt.ylabel(\"# de vezes que ouvimos alguém dizer 'data science'\")\n",
    "\n",
    "plt.ticklabel_format(useOffset=False)\n",
    "\n",
    "plt.axis([2012.5, 2014.5, 0, 550])\n",
    "plt.title(\"Não Tão Grande Agora\")\n",
    "plt.show()"
   ]
  },
  {
   "cell_type": "markdown",
   "metadata": {},
   "source": [
    "## Gráficos de Linhas"
   ]
  },
  {
   "cell_type": "code",
   "execution_count": 5,
   "metadata": {},
   "outputs": [],
   "source": [
    "variance = [1, 2, 4, 8, 16, 32, 64, 128, 256]"
   ]
  },
  {
   "cell_type": "code",
   "execution_count": 6,
   "metadata": {},
   "outputs": [],
   "source": [
    "bias_squared = [256, 128, 64, 32, 16, 8, 4, 2, 1]"
   ]
  },
  {
   "cell_type": "code",
   "execution_count": 7,
   "metadata": {},
   "outputs": [],
   "source": [
    "total_error = [x + y for x, y in zip(variance, bias_squared)]"
   ]
  },
  {
   "cell_type": "code",
   "execution_count": 8,
   "metadata": {},
   "outputs": [],
   "source": [
    "xs = [i for i, _ in enumerate(variance)]"
   ]
  },
  {
   "cell_type": "code",
   "execution_count": 15,
   "metadata": {},
   "outputs": [
    {
     "data": {
      "image/png": "[encoded data removed]",
      "text/plain": [
       "<Figure size 576x432 with 1 Axes>"
      ]
     },
     "metadata": {
      "needs_background": "light"
     },
     "output_type": "display_data"
    }
   ],
   "source": [
    "plt.figure(figsize=(8, 6))\n",
    "plt.plot(xs, variance,     'g-',  label='variance')\n",
    "plt.plot(xs, bias_squared, 'r-.', label='bias^2')\n",
    "plt.plot(xs, total_error,  'b:',  label='total error')\n",
    "\n",
    "plt.legend(loc=9)\n",
    "plt.xlabel(\"Complexidade do modelo\")\n",
    "plt.title(\"Compromisso entre Polarização e Variância\")\n",
    "plt.show()"
   ]
  },
  {
   "cell_type": "code",
   "execution_count": 2,
   "metadata": {},
   "outputs": [
    {
     "data": {
      "image/png": "[encoded data removed]",
      "text/plain": [
       "<Figure size 432x288 with 1 Axes>"
      ]
     },
     "metadata": {
      "needs_background": "light"
     },
     "output_type": "display_data"
    }
   ],
   "source": [
    "friends = [ 70,  65,  72,  63,  71,  64,  60,  64, 67]\n",
    "minutes = [175, 170, 205, 120, 220, 130, 105, 145, 190]\n",
    "labels =  ['a', 'b', 'c', 'd', 'e', 'f', 'g', 'h', 'i']\n",
    "\n",
    "plt.scatter(friends, minutes)\n",
    "\n",
    "# Nomeia cada posição\n",
    "for label, friend_count, minute_count in zip(labels, friends, minutes):\n",
    "    plt.annotate(label,\n",
    "        xy=(friend_count, minute_count),\n",
    "        xytext=(5, -5),\n",
    "        textcoords='offset points')\n",
    "    \n",
    "plt.title(\"Minutos Diários vs. Número de Amigos\")\n",
    "plt.xlabel(\"# de amigos\")\n",
    "plt.ylabel(\"Minutos diários passados no site\")\n",
    "plt.show()"
   ]
  }
 ],
 "metadata": {
  "kernelspec": {
   "display_name": "Python 3",
   "language": "python",
   "name": "python3"
  },
  "language_info": {
   "codemirror_mode": {
    "name": "ipython",
    "version": 3
   },
   "file_extension": ".py",
   "mimetype": "text/x-python",
   "name": "python",
   "nbconvert_exporter": "python",
   "pygments_lexer": "ipython3",
   "version": "3.8.5"
  }
 },
 "nbformat": 4,
 "nbformat_minor": 4
}
