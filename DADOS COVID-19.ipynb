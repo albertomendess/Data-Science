{
 "cells": [
  {
   "cell_type": "code",
   "execution_count": 2,
   "metadata": {},
   "outputs": [],
   "source": [
    "import pandas as pd\n",
    "import numpy as np"
   ]
  },
  {
   "cell_type": "code",
   "execution_count": 3,
   "metadata": {},
   "outputs": [],
   "source": [
    "casos = pd.read_csv(\"https://raw.githubusercontent.com/CSSEGISandData/COVID-19/master/csse_covid_19_data/csse_covid_19_time_series/time_series_covid19_confirmed_global.csv\")"
   ]
  },
  {
   "cell_type": "code",
   "execution_count": 4,
   "metadata": {},
   "outputs": [
    {
     "data": {
      "text/html": [
       "<div>\n",
       "<style scoped>\n",
       "    .dataframe tbody tr th:only-of-type {\n",
       "        vertical-align: middle;\n",
       "    }\n",
       "\n",
       "    .dataframe tbody tr th {\n",
       "        vertical-align: top;\n",
       "    }\n",
       "\n",
       "    .dataframe thead th {\n",
       "        text-align: right;\n",
       "    }\n",
       "</style>\n",
       "<table border=\"1\" class=\"dataframe\">\n",
       "  <thead>\n",
       "    <tr style=\"text-align: right;\">\n",
       "      <th></th>\n",
       "      <th>Province/State</th>\n",
       "      <th>Country/Region</th>\n",
       "      <th>Lat</th>\n",
       "      <th>Long</th>\n",
       "      <th>1/22/20</th>\n",
       "      <th>1/23/20</th>\n",
       "      <th>1/24/20</th>\n",
       "      <th>1/25/20</th>\n",
       "      <th>1/26/20</th>\n",
       "      <th>1/27/20</th>\n",
       "      <th>...</th>\n",
       "      <th>3/23/21</th>\n",
       "      <th>3/24/21</th>\n",
       "      <th>3/25/21</th>\n",
       "      <th>3/26/21</th>\n",
       "      <th>3/27/21</th>\n",
       "      <th>3/28/21</th>\n",
       "      <th>3/29/21</th>\n",
       "      <th>3/30/21</th>\n",
       "      <th>3/31/21</th>\n",
       "      <th>4/1/21</th>\n",
       "    </tr>\n",
       "  </thead>\n",
       "  <tbody>\n",
       "    <tr>\n",
       "      <th>269</th>\n",
       "      <td>NaN</td>\n",
       "      <td>Vietnam</td>\n",
       "      <td>14.058324</td>\n",
       "      <td>108.277199</td>\n",
       "      <td>0</td>\n",
       "      <td>2</td>\n",
       "      <td>2</td>\n",
       "      <td>2</td>\n",
       "      <td>2</td>\n",
       "      <td>2</td>\n",
       "      <td>...</td>\n",
       "      <td>2575</td>\n",
       "      <td>2576</td>\n",
       "      <td>2579</td>\n",
       "      <td>2586</td>\n",
       "      <td>2586</td>\n",
       "      <td>2591</td>\n",
       "      <td>2594</td>\n",
       "      <td>2594</td>\n",
       "      <td>2603</td>\n",
       "      <td>2617</td>\n",
       "    </tr>\n",
       "    <tr>\n",
       "      <th>270</th>\n",
       "      <td>NaN</td>\n",
       "      <td>West Bank and Gaza</td>\n",
       "      <td>31.952200</td>\n",
       "      <td>35.233200</td>\n",
       "      <td>0</td>\n",
       "      <td>0</td>\n",
       "      <td>0</td>\n",
       "      <td>0</td>\n",
       "      <td>0</td>\n",
       "      <td>0</td>\n",
       "      <td>...</td>\n",
       "      <td>228044</td>\n",
       "      <td>230076</td>\n",
       "      <td>232038</td>\n",
       "      <td>233549</td>\n",
       "      <td>234748</td>\n",
       "      <td>236462</td>\n",
       "      <td>238248</td>\n",
       "      <td>240065</td>\n",
       "      <td>242353</td>\n",
       "      <td>244645</td>\n",
       "    </tr>\n",
       "    <tr>\n",
       "      <th>271</th>\n",
       "      <td>NaN</td>\n",
       "      <td>Yemen</td>\n",
       "      <td>15.552727</td>\n",
       "      <td>48.516388</td>\n",
       "      <td>0</td>\n",
       "      <td>0</td>\n",
       "      <td>0</td>\n",
       "      <td>0</td>\n",
       "      <td>0</td>\n",
       "      <td>0</td>\n",
       "      <td>...</td>\n",
       "      <td>3612</td>\n",
       "      <td>3703</td>\n",
       "      <td>3816</td>\n",
       "      <td>3900</td>\n",
       "      <td>3969</td>\n",
       "      <td>4033</td>\n",
       "      <td>4115</td>\n",
       "      <td>4247</td>\n",
       "      <td>4357</td>\n",
       "      <td>4531</td>\n",
       "    </tr>\n",
       "    <tr>\n",
       "      <th>272</th>\n",
       "      <td>NaN</td>\n",
       "      <td>Zambia</td>\n",
       "      <td>-13.133897</td>\n",
       "      <td>27.849332</td>\n",
       "      <td>0</td>\n",
       "      <td>0</td>\n",
       "      <td>0</td>\n",
       "      <td>0</td>\n",
       "      <td>0</td>\n",
       "      <td>0</td>\n",
       "      <td>...</td>\n",
       "      <td>86779</td>\n",
       "      <td>86993</td>\n",
       "      <td>87318</td>\n",
       "      <td>87583</td>\n",
       "      <td>87583</td>\n",
       "      <td>87872</td>\n",
       "      <td>88012</td>\n",
       "      <td>88199</td>\n",
       "      <td>88418</td>\n",
       "      <td>88549</td>\n",
       "    </tr>\n",
       "    <tr>\n",
       "      <th>273</th>\n",
       "      <td>NaN</td>\n",
       "      <td>Zimbabwe</td>\n",
       "      <td>-19.015438</td>\n",
       "      <td>29.154857</td>\n",
       "      <td>0</td>\n",
       "      <td>0</td>\n",
       "      <td>0</td>\n",
       "      <td>0</td>\n",
       "      <td>0</td>\n",
       "      <td>0</td>\n",
       "      <td>...</td>\n",
       "      <td>36717</td>\n",
       "      <td>36749</td>\n",
       "      <td>36778</td>\n",
       "      <td>36805</td>\n",
       "      <td>36818</td>\n",
       "      <td>36822</td>\n",
       "      <td>36839</td>\n",
       "      <td>36839</td>\n",
       "      <td>36882</td>\n",
       "      <td>36896</td>\n",
       "    </tr>\n",
       "  </tbody>\n",
       "</table>\n",
       "<p>5 rows × 440 columns</p>\n",
       "</div>"
      ],
      "text/plain": [
       "    Province/State      Country/Region        Lat        Long  1/22/20  \\\n",
       "269            NaN             Vietnam  14.058324  108.277199        0   \n",
       "270            NaN  West Bank and Gaza  31.952200   35.233200        0   \n",
       "271            NaN               Yemen  15.552727   48.516388        0   \n",
       "272            NaN              Zambia -13.133897   27.849332        0   \n",
       "273            NaN            Zimbabwe -19.015438   29.154857        0   \n",
       "\n",
       "     1/23/20  1/24/20  1/25/20  1/26/20  1/27/20  ...  3/23/21  3/24/21  \\\n",
       "269        2        2        2        2        2  ...     2575     2576   \n",
       "270        0        0        0        0        0  ...   228044   230076   \n",
       "271        0        0        0        0        0  ...     3612     3703   \n",
       "272        0        0        0        0        0  ...    86779    86993   \n",
       "273        0        0        0        0        0  ...    36717    36749   \n",
       "\n",
       "     3/25/21  3/26/21  3/27/21  3/28/21  3/29/21  3/30/21  3/31/21  4/1/21  \n",
       "269     2579     2586     2586     2591     2594     2594     2603    2617  \n",
       "270   232038   233549   234748   236462   238248   240065   242353  244645  \n",
       "271     3816     3900     3969     4033     4115     4247     4357    4531  \n",
       "272    87318    87583    87583    87872    88012    88199    88418   88549  \n",
       "273    36778    36805    36818    36822    36839    36839    36882   36896  \n",
       "\n",
       "[5 rows x 440 columns]"
      ]
     },
     "execution_count": 4,
     "metadata": {},
     "output_type": "execute_result"
    }
   ],
   "source": [
    "casos.tail()"
   ]
  },
  {
   "cell_type": "code",
   "execution_count": 5,
   "metadata": {},
   "outputs": [
    {
     "data": {
      "text/plain": [
       "(274, 440)"
      ]
     },
     "execution_count": 5,
     "metadata": {},
     "output_type": "execute_result"
    }
   ],
   "source": [
    "casos.shape"
   ]
  },
  {
   "cell_type": "markdown",
   "metadata": {},
   "source": [
    "## CASOS COVID-19 NO MUNDO"
   ]
  },
  {
   "cell_type": "code",
   "execution_count": 11,
   "metadata": {},
   "outputs": [
    {
     "data": {
      "text/plain": [
       "2021-03-22    123691228\n",
       "2021-03-23    124205316\n",
       "2021-03-24    124839174\n",
       "2021-03-25    125490374\n",
       "2021-03-26    126131572\n",
       "2021-03-27    126715405\n",
       "2021-03-28    127185829\n",
       "2021-03-29    127644757\n",
       "2021-03-30    128212879\n",
       "2021-03-31    128895921\n",
       "dtype: int64"
      ]
     },
     "execution_count": 11,
     "metadata": {},
     "output_type": "execute_result"
    }
   ],
   "source": [
    "casos = np.sum(casos.iloc[ : , 4 : -1 ])\n",
    "casos.index = pd.DatetimeIndex(casos.index)\n",
    "casos.tail(10)"
   ]
  },
  {
   "cell_type": "code",
   "execution_count": 12,
   "metadata": {},
   "outputs": [
    {
     "data": {
      "text/plain": [
       "<AxesSubplot:>"
      ]
     },
     "execution_count": 12,
     "metadata": {},
     "output_type": "execute_result"
    },
    {
     "data": {
      "image/png": "[encoded data removed]",
      "text/plain": [
       "<Figure size 432x288 with 1 Axes>"
      ]
     },
     "metadata": {
      "needs_background": "light"
     },
     "output_type": "display_data"
    }
   ],
   "source": [
    "casos.plot()"
   ]
  },
  {
   "cell_type": "markdown",
   "metadata": {},
   "source": [
    "## MORTES POR COVID NO MUNDO"
   ]
  },
  {
   "cell_type": "code",
   "execution_count": 20,
   "metadata": {},
   "outputs": [],
   "source": [
    "mortes = pd.read_csv(\"https://raw.githubusercontent.com/CSSEGISandData/COVID-19/master/csse_covid_19_data/csse_covid_19_time_series/time_series_covid19_deaths_global.csv\")"
   ]
  },
  {
   "cell_type": "code",
   "execution_count": 14,
   "metadata": {},
   "outputs": [
    {
     "data": {
      "text/plain": [
       "(274, 440)"
      ]
     },
     "execution_count": 14,
     "metadata": {},
     "output_type": "execute_result"
    }
   ],
   "source": [
    "mortes.shape"
   ]
  },
  {
   "cell_type": "code",
   "execution_count": 21,
   "metadata": {},
   "outputs": [
    {
     "data": {
      "text/plain": [
       "2021-03-22    2723214\n",
       "2021-03-23    2734291\n",
       "2021-03-24    2743956\n",
       "2021-03-25    2755443\n",
       "2021-03-26    2767631\n",
       "2021-03-27    2777421\n",
       "2021-03-28    2783885\n",
       "2021-03-29    2791836\n",
       "2021-03-30    2803397\n",
       "2021-03-31    2815659\n",
       "dtype: int64"
      ]
     },
     "execution_count": 21,
     "metadata": {},
     "output_type": "execute_result"
    }
   ],
   "source": [
    "mortes = np.sum(mortes.iloc[ : , 4 : -1 ])\n",
    "mortes.index = pd.DatetimeIndex(mortes.index)\n",
    "mortes.tail(10)"
   ]
  },
  {
   "cell_type": "code",
   "execution_count": 22,
   "metadata": {},
   "outputs": [
    {
     "data": {
      "text/plain": [
       "<AxesSubplot:>"
      ]
     },
     "execution_count": 22,
     "metadata": {},
     "output_type": "execute_result"
    },
    {
     "data": {
      "image/png": "[encoded data removed]",
      "text/plain": [
       "<Figure size 432x288 with 1 Axes>"
      ]
     },
     "metadata": {
      "needs_background": "light"
     },
     "output_type": "display_data"
    }
   ],
   "source": [
    "mortes.plot()"
   ]
  },
  {
   "cell_type": "code",
   "execution_count": 23,
   "metadata": {},
   "outputs": [],
   "source": [
    "mortalidade = (mortes / casos) * 100"
   ]
  },
  {
   "cell_type": "code",
   "execution_count": 25,
   "metadata": {},
   "outputs": [
    {
     "data": {
      "text/plain": [
       "<AxesSubplot:>"
      ]
     },
     "execution_count": 25,
     "metadata": {},
     "output_type": "execute_result"
    },
    {
     "data": {
      "image/png": "[encoded data removed]",
      "text/plain": [
       "<Figure size 432x288 with 1 Axes>"
      ]
     },
     "metadata": {
      "needs_background": "light"
     },
     "output_type": "display_data"
    }
   ],
   "source": [
    "mortalidade.plot()"
   ]
  },
  {
   "cell_type": "code",
   "execution_count": null,
   "metadata": {},
   "outputs": [],
   "source": []
  }
 ],
 "metadata": {
  "kernelspec": {
   "display_name": "Python 3",
   "language": "python",
   "name": "python3"
  },
  "language_info": {
   "codemirror_mode": {
    "name": "ipython",
    "version": 3
   },
   "file_extension": ".py",
   "mimetype": "text/x-python",
   "name": "python",
   "nbconvert_exporter": "python",
   "pygments_lexer": "ipython3",
   "version": "3.8.5"
  }
 },
 "nbformat": 4,
 "nbformat_minor": 4
}
