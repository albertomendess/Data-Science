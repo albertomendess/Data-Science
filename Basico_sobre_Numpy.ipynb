{
  "nbformat": 4,
  "nbformat_minor": 0,
  "metadata": {
    "colab": {
      "name": "Basico sobre Numpy.ipynb",
      "provenance": [],
      "collapsed_sections": [],
      "authorship_tag": "ABX9TyOHuBOjswfmBEMOt98pmlaw",
      "include_colab_link": true
    },
    "kernelspec": {
      "name": "python3",
      "display_name": "Python 3"
    },
    "language_info": {
      "name": "python"
    }
  },
  "cells": [
    {
      "cell_type": "markdown",
      "metadata": {
        "id": "view-in-github",
        "colab_type": "text"
      },
      "source": [
        "<a href=\"https://colab.research.google.com/github/albertomendess/Data-Science/blob/main/Basico_sobre_Numpy.ipynb\" target=\"_parent\"><img src=\"https://colab.research.google.com/assets/colab-badge.svg\" alt=\"Open In Colab\"/></a>"
      ]
    },
    {
      "cell_type": "markdown",
      "metadata": {
        "id": "OTfkE4dkIJXw"
      },
      "source": [
        "#ndarray: um objeto array multidimencional"
      ]
    },
    {
      "cell_type": "code",
      "metadata": {
        "id": "bH1hO4IjIIz0"
      },
      "source": [
        "import numpy as np"
      ],
      "execution_count": 1,
      "outputs": []
    },
    {
      "cell_type": "code",
      "metadata": {
        "colab": {
          "base_uri": "https://localhost:8080/"
        },
        "id": "f8T_W2L8IkHZ",
        "outputId": "5367e52e-0b04-43ae-f9d6-51993cd65af7"
      },
      "source": [
        "# Gera alguns dados aleatórios\n",
        "data = np.random.randn(2, 3)\n",
        "data"
      ],
      "execution_count": 2,
      "outputs": [
        {
          "output_type": "execute_result",
          "data": {
            "text/plain": [
              "array([[-0.87482113,  1.93530485,  0.97874764],\n",
              "       [-0.90091047, -1.48259197,  0.63320496]])"
            ]
          },
          "metadata": {
            "tags": []
          },
          "execution_count": 2
        }
      ]
    },
    {
      "cell_type": "code",
      "metadata": {
        "colab": {
          "base_uri": "https://localhost:8080/"
        },
        "id": "lgMukOUTIzUM",
        "outputId": "af2cd45c-3746-409c-df5f-738c6f8b0490"
      },
      "source": [
        "data * 10"
      ],
      "execution_count": 3,
      "outputs": [
        {
          "output_type": "execute_result",
          "data": {
            "text/plain": [
              "array([[ -8.74821134,  19.35304848,   9.78747639],\n",
              "       [ -9.00910466, -14.82591967,   6.3320496 ]])"
            ]
          },
          "metadata": {
            "tags": []
          },
          "execution_count": 3
        }
      ]
    },
    {
      "cell_type": "code",
      "metadata": {
        "colab": {
          "base_uri": "https://localhost:8080/"
        },
        "id": "bFHE2vm2I5NW",
        "outputId": "aa103f47-6b21-4dbf-992c-780a277f06ac"
      },
      "source": [
        "data + data"
      ],
      "execution_count": 4,
      "outputs": [
        {
          "output_type": "execute_result",
          "data": {
            "text/plain": [
              "array([[-1.74964227,  3.8706097 ,  1.95749528],\n",
              "       [-1.80182093, -2.96518393,  1.26640992]])"
            ]
          },
          "metadata": {
            "tags": []
          },
          "execution_count": 4
        }
      ]
    },
    {
      "cell_type": "code",
      "metadata": {
        "colab": {
          "base_uri": "https://localhost:8080/"
        },
        "id": "1JWs1_FVI83z",
        "outputId": "4c7291ae-de99-44ac-ce50-65e9e4c65fed"
      },
      "source": [
        "print(data.shape)\n",
        "print(data.dtype)"
      ],
      "execution_count": 5,
      "outputs": [
        {
          "output_type": "stream",
          "text": [
            "(2, 3)\n",
            "float64\n"
          ],
          "name": "stdout"
        }
      ]
    },
    {
      "cell_type": "markdown",
      "metadata": {
        "id": "fKO9mH54JhN4"
      },
      "source": [
        "### Criando ndarrays"
      ]
    },
    {
      "cell_type": "code",
      "metadata": {
        "id": "-0N6mn7rJWjH"
      },
      "source": [
        "data1 = [6, 7.5, 8, 0, 1]"
      ],
      "execution_count": 6,
      "outputs": []
    },
    {
      "cell_type": "code",
      "metadata": {
        "colab": {
          "base_uri": "https://localhost:8080/"
        },
        "id": "h6ihtBEZJ3nU",
        "outputId": "9f869c67-60b2-48cc-97f5-413846c560d8"
      },
      "source": [
        "arr1 = np.array(data1)\n",
        "arr1"
      ],
      "execution_count": 7,
      "outputs": [
        {
          "output_type": "execute_result",
          "data": {
            "text/plain": [
              "array([6. , 7.5, 8. , 0. , 1. ])"
            ]
          },
          "metadata": {
            "tags": []
          },
          "execution_count": 7
        }
      ]
    },
    {
      "cell_type": "code",
      "metadata": {
        "id": "JeAe_foWJ912"
      },
      "source": [
        "data2 = [[1, 2, 3, 4], [5, 6, 7, 8]]"
      ],
      "execution_count": 8,
      "outputs": []
    },
    {
      "cell_type": "code",
      "metadata": {
        "colab": {
          "base_uri": "https://localhost:8080/"
        },
        "id": "dqkzwK9rKMcq",
        "outputId": "a5459e2a-48e1-416d-d61f-68f791a6a1e4"
      },
      "source": [
        "arr2 = np.array(data2)\n",
        "arr2"
      ],
      "execution_count": 9,
      "outputs": [
        {
          "output_type": "execute_result",
          "data": {
            "text/plain": [
              "array([[1, 2, 3, 4],\n",
              "       [5, 6, 7, 8]])"
            ]
          },
          "metadata": {
            "tags": []
          },
          "execution_count": 9
        }
      ]
    },
    {
      "cell_type": "code",
      "metadata": {
        "colab": {
          "base_uri": "https://localhost:8080/"
        },
        "id": "FWa0cQWNKRKX",
        "outputId": "18e94b87-0ce0-4b68-d7d9-aa5f8b538abb"
      },
      "source": [
        "print(arr2.ndim)\n",
        "print(arr2.shape)"
      ],
      "execution_count": 10,
      "outputs": [
        {
          "output_type": "stream",
          "text": [
            "2\n",
            "(2, 4)\n"
          ],
          "name": "stdout"
        }
      ]
    },
    {
      "cell_type": "code",
      "metadata": {
        "colab": {
          "base_uri": "https://localhost:8080/"
        },
        "id": "o2126LIcKlqu",
        "outputId": "29e0e90c-8f04-48dd-eda3-281739d97831"
      },
      "source": [
        "print(arr1.dtype)\n",
        "print(arr2.dtype)"
      ],
      "execution_count": 11,
      "outputs": [
        {
          "output_type": "stream",
          "text": [
            "float64\n",
            "int64\n"
          ],
          "name": "stdout"
        }
      ]
    },
    {
      "cell_type": "code",
      "metadata": {
        "colab": {
          "base_uri": "https://localhost:8080/"
        },
        "id": "Gt2d6DRRK0vL",
        "outputId": "c25ff181-9a1a-4baa-dc63-bc4050326ff6"
      },
      "source": [
        "np.zeros(10)"
      ],
      "execution_count": 12,
      "outputs": [
        {
          "output_type": "execute_result",
          "data": {
            "text/plain": [
              "array([0., 0., 0., 0., 0., 0., 0., 0., 0., 0.])"
            ]
          },
          "metadata": {
            "tags": []
          },
          "execution_count": 12
        }
      ]
    },
    {
      "cell_type": "code",
      "metadata": {
        "colab": {
          "base_uri": "https://localhost:8080/"
        },
        "id": "jFzcPVP6LMiI",
        "outputId": "558c3fa5-9fbd-4f35-9df7-ef3f35dff07e"
      },
      "source": [
        "np.zeros((3, 6))"
      ],
      "execution_count": 13,
      "outputs": [
        {
          "output_type": "execute_result",
          "data": {
            "text/plain": [
              "array([[0., 0., 0., 0., 0., 0.],\n",
              "       [0., 0., 0., 0., 0., 0.],\n",
              "       [0., 0., 0., 0., 0., 0.]])"
            ]
          },
          "metadata": {
            "tags": []
          },
          "execution_count": 13
        }
      ]
    },
    {
      "cell_type": "code",
      "metadata": {
        "colab": {
          "base_uri": "https://localhost:8080/"
        },
        "id": "E7Z8DgNvLd8K",
        "outputId": "7817a2db-ba47-4783-b592-4d5c0f76c5c3"
      },
      "source": [
        "np.empty((2, 3, 1))"
      ],
      "execution_count": 14,
      "outputs": [
        {
          "output_type": "execute_result",
          "data": {
            "text/plain": [
              "array([[[1.74964227],\n",
              "        [3.8706097 ],\n",
              "        [1.95749528]],\n",
              "\n",
              "       [[1.80182093],\n",
              "        [2.96518393],\n",
              "        [1.26640992]]])"
            ]
          },
          "metadata": {
            "tags": []
          },
          "execution_count": 14
        }
      ]
    },
    {
      "cell_type": "code",
      "metadata": {
        "colab": {
          "base_uri": "https://localhost:8080/"
        },
        "id": "Q0AQb3qDLqgB",
        "outputId": "d49dc270-c340-42e7-9951-29792683a960"
      },
      "source": [
        "np.arange(15)"
      ],
      "execution_count": 15,
      "outputs": [
        {
          "output_type": "execute_result",
          "data": {
            "text/plain": [
              "array([ 0,  1,  2,  3,  4,  5,  6,  7,  8,  9, 10, 11, 12, 13, 14])"
            ]
          },
          "metadata": {
            "tags": []
          },
          "execution_count": 15
        }
      ]
    },
    {
      "cell_type": "markdown",
      "metadata": {
        "id": "H6uYwzy5NJjh"
      },
      "source": [
        "### Tipos de dados para ndarray"
      ]
    },
    {
      "cell_type": "code",
      "metadata": {
        "id": "FtedkPHhMiBt"
      },
      "source": [
        "arr1 = np.array([1, 2, 3], dtype=np.float64)"
      ],
      "execution_count": 16,
      "outputs": []
    },
    {
      "cell_type": "code",
      "metadata": {
        "id": "ePrELB2iNraE"
      },
      "source": [
        "arr2 = np.array([1, 2, 3], dtype=np.int32)"
      ],
      "execution_count": 17,
      "outputs": []
    },
    {
      "cell_type": "code",
      "metadata": {
        "colab": {
          "base_uri": "https://localhost:8080/"
        },
        "id": "IrIcUXwGN4zy",
        "outputId": "5e1ee81d-c7e7-474d-e9a3-0a0f845f8eaa"
      },
      "source": [
        "print(arr1.dtype)\n",
        "print(arr2.dtype)"
      ],
      "execution_count": 18,
      "outputs": [
        {
          "output_type": "stream",
          "text": [
            "float64\n",
            "int32\n"
          ],
          "name": "stdout"
        }
      ]
    },
    {
      "cell_type": "code",
      "metadata": {
        "colab": {
          "base_uri": "https://localhost:8080/"
        },
        "id": "LtvVQEZuODzU",
        "outputId": "f941c0a2-2f3b-40f7-ee78-94613bfc9842"
      },
      "source": [
        "arr = np.array([1, 2, 3, 4, 5])\n",
        "arr.dtype"
      ],
      "execution_count": 19,
      "outputs": [
        {
          "output_type": "execute_result",
          "data": {
            "text/plain": [
              "dtype('int64')"
            ]
          },
          "metadata": {
            "tags": []
          },
          "execution_count": 19
        }
      ]
    },
    {
      "cell_type": "code",
      "metadata": {
        "colab": {
          "base_uri": "https://localhost:8080/"
        },
        "id": "FEgiKGtOPHLP",
        "outputId": "1d269386-2535-42f4-c830-502e6b676472"
      },
      "source": [
        "float_arr = arr.astype(np.float64)\n",
        "float_arr.dtype"
      ],
      "execution_count": 20,
      "outputs": [
        {
          "output_type": "execute_result",
          "data": {
            "text/plain": [
              "dtype('float64')"
            ]
          },
          "metadata": {
            "tags": []
          },
          "execution_count": 20
        }
      ]
    },
    {
      "cell_type": "code",
      "metadata": {
        "colab": {
          "base_uri": "https://localhost:8080/"
        },
        "id": "AOgZhRgaPVh1",
        "outputId": "042f5c83-cd2b-41b8-f99a-bc1bdd7b1ae8"
      },
      "source": [
        "arr = np.array([3.7, -1.2, -2.6, .5, 12.9, 10.1])\n",
        "arr"
      ],
      "execution_count": 21,
      "outputs": [
        {
          "output_type": "execute_result",
          "data": {
            "text/plain": [
              "array([ 3.7, -1.2, -2.6,  0.5, 12.9, 10.1])"
            ]
          },
          "metadata": {
            "tags": []
          },
          "execution_count": 21
        }
      ]
    },
    {
      "cell_type": "code",
      "metadata": {
        "colab": {
          "base_uri": "https://localhost:8080/"
        },
        "id": "DBZ7lSAdP3nH",
        "outputId": "5d866ffa-e230-4bc3-c092-a736ba6dfb0e"
      },
      "source": [
        "arr.astype(np.int32)"
      ],
      "execution_count": 22,
      "outputs": [
        {
          "output_type": "execute_result",
          "data": {
            "text/plain": [
              "array([ 3, -1, -2,  0, 12, 10], dtype=int32)"
            ]
          },
          "metadata": {
            "tags": []
          },
          "execution_count": 22
        }
      ]
    },
    {
      "cell_type": "code",
      "metadata": {
        "colab": {
          "base_uri": "https://localhost:8080/"
        },
        "id": "dVOE2Z1ZQA3X",
        "outputId": "734ddcac-0288-4db6-eb11-88d572b41861"
      },
      "source": [
        "numeric_strings = np.array(['-1.25', '-9.25', '42'], dtype=np.string_)\n",
        "numeric_strings.astype(np.float64)"
      ],
      "execution_count": 23,
      "outputs": [
        {
          "output_type": "execute_result",
          "data": {
            "text/plain": [
              "array([-1.25, -9.25, 42.  ])"
            ]
          },
          "metadata": {
            "tags": []
          },
          "execution_count": 23
        }
      ]
    },
    {
      "cell_type": "code",
      "metadata": {
        "id": "nDEFADr-Ql5J"
      },
      "source": [
        "int_array = np.arange(10)"
      ],
      "execution_count": 24,
      "outputs": []
    },
    {
      "cell_type": "code",
      "metadata": {
        "colab": {
          "base_uri": "https://localhost:8080/"
        },
        "id": "KqDLjdmfRD01",
        "outputId": "8a0e4d84-23c8-43e3-d52e-28a967cd049c"
      },
      "source": [
        "calibers = np.array([.22/ .270, .357, .380, .44, .50], dtype=np.float64)\n",
        "int_array.astype(calibers.dtype)"
      ],
      "execution_count": 25,
      "outputs": [
        {
          "output_type": "execute_result",
          "data": {
            "text/plain": [
              "array([0., 1., 2., 3., 4., 5., 6., 7., 8., 9.])"
            ]
          },
          "metadata": {
            "tags": []
          },
          "execution_count": 25
        }
      ]
    },
    {
      "cell_type": "code",
      "metadata": {
        "colab": {
          "base_uri": "https://localhost:8080/"
        },
        "id": "Wv2IyVlwRZIv",
        "outputId": "cd4d783e-3cbf-4d6f-d134-4232968a781a"
      },
      "source": [
        "empty_uint32 = np.empty(8, dtype='u4')\n",
        "empty_uint32"
      ],
      "execution_count": 26,
      "outputs": [
        {
          "output_type": "execute_result",
          "data": {
            "text/plain": [
              "array([         0, 1075314688,          0, 1075707904,          0,\n",
              "       1075838976,          0, 1072693248], dtype=uint32)"
            ]
          },
          "metadata": {
            "tags": []
          },
          "execution_count": 26
        }
      ]
    },
    {
      "cell_type": "markdown",
      "metadata": {
        "id": "8nfgPauMR0K2"
      },
      "source": [
        "### Aritmética com Arrays NumPy"
      ]
    },
    {
      "cell_type": "code",
      "metadata": {
        "id": "uv4Zov-HRtYr"
      },
      "source": [
        "arr = np.array([[1., 2., 3.], [4., 5., 6.]])"
      ],
      "execution_count": 27,
      "outputs": []
    },
    {
      "cell_type": "code",
      "metadata": {
        "colab": {
          "base_uri": "https://localhost:8080/"
        },
        "id": "oLsAf6_OoYYB",
        "outputId": "362c1382-330e-4432-f09f-71f325915afd"
      },
      "source": [
        "arr"
      ],
      "execution_count": 28,
      "outputs": [
        {
          "output_type": "execute_result",
          "data": {
            "text/plain": [
              "array([[1., 2., 3.],\n",
              "       [4., 5., 6.]])"
            ]
          },
          "metadata": {
            "tags": []
          },
          "execution_count": 28
        }
      ]
    },
    {
      "cell_type": "code",
      "metadata": {
        "colab": {
          "base_uri": "https://localhost:8080/"
        },
        "id": "1n4SWdVmoZHE",
        "outputId": "f1941b36-c012-481a-97bf-4b286be91d76"
      },
      "source": [
        "arr * arr"
      ],
      "execution_count": 29,
      "outputs": [
        {
          "output_type": "execute_result",
          "data": {
            "text/plain": [
              "array([[ 1.,  4.,  9.],\n",
              "       [16., 25., 36.]])"
            ]
          },
          "metadata": {
            "tags": []
          },
          "execution_count": 29
        }
      ]
    },
    {
      "cell_type": "code",
      "metadata": {
        "colab": {
          "base_uri": "https://localhost:8080/"
        },
        "id": "qqA2UexLtbXI",
        "outputId": "1d4993b2-c2ec-49b3-b798-17c2bac2d6b4"
      },
      "source": [
        "arr - arr"
      ],
      "execution_count": 30,
      "outputs": [
        {
          "output_type": "execute_result",
          "data": {
            "text/plain": [
              "array([[0., 0., 0.],\n",
              "       [0., 0., 0.]])"
            ]
          },
          "metadata": {
            "tags": []
          },
          "execution_count": 30
        }
      ]
    },
    {
      "cell_type": "code",
      "metadata": {
        "colab": {
          "base_uri": "https://localhost:8080/"
        },
        "id": "Wc3uWEdateYo",
        "outputId": "5578d9fc-43d8-4ced-b61e-3a8f9d430838"
      },
      "source": [
        "1 / arr"
      ],
      "execution_count": 31,
      "outputs": [
        {
          "output_type": "execute_result",
          "data": {
            "text/plain": [
              "array([[1.        , 0.5       , 0.33333333],\n",
              "       [0.25      , 0.2       , 0.16666667]])"
            ]
          },
          "metadata": {
            "tags": []
          },
          "execution_count": 31
        }
      ]
    },
    {
      "cell_type": "code",
      "metadata": {
        "id": "gMpysK6YtjQ9"
      },
      "source": [
        "arr2 = np.array([[0., 4., 1,], \n",
        "                 [7., 2., 12.]])"
      ],
      "execution_count": 32,
      "outputs": []
    },
    {
      "cell_type": "code",
      "metadata": {
        "colab": {
          "base_uri": "https://localhost:8080/"
        },
        "id": "tgIvrtF3tyO9",
        "outputId": "493de72f-73a1-4f29-d492-e6b5def21968"
      },
      "source": [
        "arr2"
      ],
      "execution_count": 33,
      "outputs": [
        {
          "output_type": "execute_result",
          "data": {
            "text/plain": [
              "array([[ 0.,  4.,  1.],\n",
              "       [ 7.,  2., 12.]])"
            ]
          },
          "metadata": {
            "tags": []
          },
          "execution_count": 33
        }
      ]
    },
    {
      "cell_type": "code",
      "metadata": {
        "colab": {
          "base_uri": "https://localhost:8080/"
        },
        "id": "WJQzU9G2tzT0",
        "outputId": "907baae0-f2c9-4a24-ca3c-d2d842f3d985"
      },
      "source": [
        "arr > arr2"
      ],
      "execution_count": 34,
      "outputs": [
        {
          "output_type": "execute_result",
          "data": {
            "text/plain": [
              "array([[ True, False,  True],\n",
              "       [False,  True, False]])"
            ]
          },
          "metadata": {
            "tags": []
          },
          "execution_count": 34
        }
      ]
    },
    {
      "cell_type": "markdown",
      "metadata": {
        "id": "_w0XgAZSvq6B"
      },
      "source": [
        "### indexação básica e fatiamento"
      ]
    },
    {
      "cell_type": "code",
      "metadata": {
        "id": "B85vKQGYt6a1"
      },
      "source": [
        "arr = np.arange(10)"
      ],
      "execution_count": 35,
      "outputs": []
    },
    {
      "cell_type": "code",
      "metadata": {
        "colab": {
          "base_uri": "https://localhost:8080/"
        },
        "id": "JqWZyeY6v_SG",
        "outputId": "32fc633a-2d55-4696-c2a1-9b18ff79f5fd"
      },
      "source": [
        "arr"
      ],
      "execution_count": 36,
      "outputs": [
        {
          "output_type": "execute_result",
          "data": {
            "text/plain": [
              "array([0, 1, 2, 3, 4, 5, 6, 7, 8, 9])"
            ]
          },
          "metadata": {
            "tags": []
          },
          "execution_count": 36
        }
      ]
    },
    {
      "cell_type": "code",
      "metadata": {
        "colab": {
          "base_uri": "https://localhost:8080/"
        },
        "id": "Uo2NaQ80wCkg",
        "outputId": "07a30eb9-cf5d-4f85-f79d-83fd01aaa5ca"
      },
      "source": [
        "arr[5]"
      ],
      "execution_count": 37,
      "outputs": [
        {
          "output_type": "execute_result",
          "data": {
            "text/plain": [
              "5"
            ]
          },
          "metadata": {
            "tags": []
          },
          "execution_count": 37
        }
      ]
    },
    {
      "cell_type": "code",
      "metadata": {
        "colab": {
          "base_uri": "https://localhost:8080/"
        },
        "id": "faAl0fDswE3G",
        "outputId": "4e41057f-0b8d-4cc7-ca3f-20a2a7b544b9"
      },
      "source": [
        "arr[5:8]"
      ],
      "execution_count": 38,
      "outputs": [
        {
          "output_type": "execute_result",
          "data": {
            "text/plain": [
              "array([5, 6, 7])"
            ]
          },
          "metadata": {
            "tags": []
          },
          "execution_count": 38
        }
      ]
    },
    {
      "cell_type": "code",
      "metadata": {
        "id": "tZHIYTMbwG-_"
      },
      "source": [
        "arr[5:8] = 12"
      ],
      "execution_count": 39,
      "outputs": []
    },
    {
      "cell_type": "code",
      "metadata": {
        "colab": {
          "base_uri": "https://localhost:8080/"
        },
        "id": "ZXSb8wVRwNDs",
        "outputId": "782a2663-4fee-4f91-c259-f94294707c76"
      },
      "source": [
        "arr"
      ],
      "execution_count": 40,
      "outputs": [
        {
          "output_type": "execute_result",
          "data": {
            "text/plain": [
              "array([ 0,  1,  2,  3,  4, 12, 12, 12,  8,  9])"
            ]
          },
          "metadata": {
            "tags": []
          },
          "execution_count": 40
        }
      ]
    },
    {
      "cell_type": "code",
      "metadata": {
        "id": "zGKnXVvhwNrH"
      },
      "source": [
        "arr_slice = arr[5:8]"
      ],
      "execution_count": 41,
      "outputs": []
    },
    {
      "cell_type": "code",
      "metadata": {
        "colab": {
          "base_uri": "https://localhost:8080/"
        },
        "id": "vx3tZDW9wl1T",
        "outputId": "2c1058b8-55d6-450c-a27c-30922fad14a1"
      },
      "source": [
        "arr_slice"
      ],
      "execution_count": 42,
      "outputs": [
        {
          "output_type": "execute_result",
          "data": {
            "text/plain": [
              "array([12, 12, 12])"
            ]
          },
          "metadata": {
            "tags": []
          },
          "execution_count": 42
        }
      ]
    },
    {
      "cell_type": "code",
      "metadata": {
        "id": "YBmvsxtrwnE7"
      },
      "source": [
        "arr_slice[1] = 12345"
      ],
      "execution_count": 43,
      "outputs": []
    },
    {
      "cell_type": "code",
      "metadata": {
        "colab": {
          "base_uri": "https://localhost:8080/"
        },
        "id": "0fWpYSP0wwJX",
        "outputId": "8a1bcf74-c449-4ca0-de5e-b2a8a44e1acb"
      },
      "source": [
        "arr"
      ],
      "execution_count": 44,
      "outputs": [
        {
          "output_type": "execute_result",
          "data": {
            "text/plain": [
              "array([    0,     1,     2,     3,     4,    12, 12345,    12,     8,\n",
              "           9])"
            ]
          },
          "metadata": {
            "tags": []
          },
          "execution_count": 44
        }
      ]
    },
    {
      "cell_type": "code",
      "metadata": {
        "id": "ASixK5knww-Y"
      },
      "source": [
        "arr_slice[:] = 64"
      ],
      "execution_count": 45,
      "outputs": []
    },
    {
      "cell_type": "code",
      "metadata": {
        "colab": {
          "base_uri": "https://localhost:8080/"
        },
        "id": "aN012XhXw4wI",
        "outputId": "8ad09c96-6e8c-496e-b590-3fa26b94f80e"
      },
      "source": [
        "arr"
      ],
      "execution_count": 46,
      "outputs": [
        {
          "output_type": "execute_result",
          "data": {
            "text/plain": [
              "array([ 0,  1,  2,  3,  4, 64, 64, 64,  8,  9])"
            ]
          },
          "metadata": {
            "tags": []
          },
          "execution_count": 46
        }
      ]
    },
    {
      "cell_type": "code",
      "metadata": {
        "id": "CIGAuDLEw7Rd"
      },
      "source": [
        "arr2d = np.array([[1, 2, 3], \n",
        "                  [4, 5, 6], \n",
        "                  [7, 8, 9]])"
      ],
      "execution_count": 47,
      "outputs": []
    },
    {
      "cell_type": "code",
      "metadata": {
        "colab": {
          "base_uri": "https://localhost:8080/"
        },
        "id": "6_tCtbdQxbLz",
        "outputId": "5bc4b209-d6d8-47b3-b98b-f926f62f4153"
      },
      "source": [
        "arr2d[2]"
      ],
      "execution_count": 48,
      "outputs": [
        {
          "output_type": "execute_result",
          "data": {
            "text/plain": [
              "array([7, 8, 9])"
            ]
          },
          "metadata": {
            "tags": []
          },
          "execution_count": 48
        }
      ]
    },
    {
      "cell_type": "code",
      "metadata": {
        "colab": {
          "base_uri": "https://localhost:8080/"
        },
        "id": "kvYter6zxd6X",
        "outputId": "a86fb901-44de-426a-9992-4590f6d7327d"
      },
      "source": [
        "arr2d[0][2]"
      ],
      "execution_count": 49,
      "outputs": [
        {
          "output_type": "execute_result",
          "data": {
            "text/plain": [
              "3"
            ]
          },
          "metadata": {
            "tags": []
          },
          "execution_count": 49
        }
      ]
    },
    {
      "cell_type": "code",
      "metadata": {
        "colab": {
          "base_uri": "https://localhost:8080/"
        },
        "id": "sEnRvMAjxrZu",
        "outputId": "73a4e9d4-e8ae-4e81-b4ef-e1c4b75df22e"
      },
      "source": [
        "arr2d[0, 2]"
      ],
      "execution_count": 50,
      "outputs": [
        {
          "output_type": "execute_result",
          "data": {
            "text/plain": [
              "3"
            ]
          },
          "metadata": {
            "tags": []
          },
          "execution_count": 50
        }
      ]
    },
    {
      "cell_type": "code",
      "metadata": {
        "id": "6KjuusARx1SI"
      },
      "source": [
        "arr3d = np.array([[[1, 2, 3], [4, 5, 6]], [[7, 8, 9], [10, 11, 12]]])"
      ],
      "execution_count": 51,
      "outputs": []
    },
    {
      "cell_type": "code",
      "metadata": {
        "colab": {
          "base_uri": "https://localhost:8080/"
        },
        "id": "das5M2PXbV3J",
        "outputId": "b431ac62-e0c3-42ed-9e11-17ae8c961df5"
      },
      "source": [
        "arr3d"
      ],
      "execution_count": 52,
      "outputs": [
        {
          "output_type": "execute_result",
          "data": {
            "text/plain": [
              "array([[[ 1,  2,  3],\n",
              "        [ 4,  5,  6]],\n",
              "\n",
              "       [[ 7,  8,  9],\n",
              "        [10, 11, 12]]])"
            ]
          },
          "metadata": {
            "tags": []
          },
          "execution_count": 52
        }
      ]
    },
    {
      "cell_type": "code",
      "metadata": {
        "colab": {
          "base_uri": "https://localhost:8080/"
        },
        "id": "KW1fciMMbW8S",
        "outputId": "0614559c-635e-440d-e82b-f71e137a30fe"
      },
      "source": [
        "arr3d[0]"
      ],
      "execution_count": 53,
      "outputs": [
        {
          "output_type": "execute_result",
          "data": {
            "text/plain": [
              "array([[1, 2, 3],\n",
              "       [4, 5, 6]])"
            ]
          },
          "metadata": {
            "tags": []
          },
          "execution_count": 53
        }
      ]
    },
    {
      "cell_type": "code",
      "metadata": {
        "id": "uci8G6Jgbc16"
      },
      "source": [
        "old_values = arr3d[0].copy()"
      ],
      "execution_count": 54,
      "outputs": []
    },
    {
      "cell_type": "code",
      "metadata": {
        "id": "3bIvQbMQbtn5"
      },
      "source": [
        "arr3d[0] = 42"
      ],
      "execution_count": 55,
      "outputs": []
    },
    {
      "cell_type": "code",
      "metadata": {
        "colab": {
          "base_uri": "https://localhost:8080/"
        },
        "id": "9tXESn3qbxxR",
        "outputId": "2f325559-d406-4119-cb37-7877c8034ce6"
      },
      "source": [
        "arr3d"
      ],
      "execution_count": 56,
      "outputs": [
        {
          "output_type": "execute_result",
          "data": {
            "text/plain": [
              "array([[[42, 42, 42],\n",
              "        [42, 42, 42]],\n",
              "\n",
              "       [[ 7,  8,  9],\n",
              "        [10, 11, 12]]])"
            ]
          },
          "metadata": {
            "tags": []
          },
          "execution_count": 56
        }
      ]
    },
    {
      "cell_type": "code",
      "metadata": {
        "id": "uOpuZ1dPby6q"
      },
      "source": [
        "arr3d[0] = old_values"
      ],
      "execution_count": 57,
      "outputs": []
    },
    {
      "cell_type": "code",
      "metadata": {
        "colab": {
          "base_uri": "https://localhost:8080/"
        },
        "id": "tKOt9Q1rb_Gf",
        "outputId": "e27788e1-fdc4-4d2e-e4fc-c319c81be588"
      },
      "source": [
        "arr3d"
      ],
      "execution_count": 58,
      "outputs": [
        {
          "output_type": "execute_result",
          "data": {
            "text/plain": [
              "array([[[ 1,  2,  3],\n",
              "        [ 4,  5,  6]],\n",
              "\n",
              "       [[ 7,  8,  9],\n",
              "        [10, 11, 12]]])"
            ]
          },
          "metadata": {
            "tags": []
          },
          "execution_count": 58
        }
      ]
    },
    {
      "cell_type": "code",
      "metadata": {
        "id": "BBFsHbVgcAMa"
      },
      "source": [
        "x = arr3d[1, 0]\n",
        "y = arr3d[1, 1]"
      ],
      "execution_count": 59,
      "outputs": []
    },
    {
      "cell_type": "code",
      "metadata": {
        "colab": {
          "base_uri": "https://localhost:8080/"
        },
        "id": "azhy5LpRcTVa",
        "outputId": "6f08cea7-d2ac-4b98-e7fc-1d5f7fd934e1"
      },
      "source": [
        "x"
      ],
      "execution_count": 60,
      "outputs": [
        {
          "output_type": "execute_result",
          "data": {
            "text/plain": [
              "array([7, 8, 9])"
            ]
          },
          "metadata": {
            "tags": []
          },
          "execution_count": 60
        }
      ]
    },
    {
      "cell_type": "code",
      "metadata": {
        "colab": {
          "base_uri": "https://localhost:8080/"
        },
        "id": "-HLRmIkFcUK6",
        "outputId": "17a1b2be-9ccc-44a0-967f-7400ede768ed"
      },
      "source": [
        "y"
      ],
      "execution_count": 61,
      "outputs": [
        {
          "output_type": "execute_result",
          "data": {
            "text/plain": [
              "array([10, 11, 12])"
            ]
          },
          "metadata": {
            "tags": []
          },
          "execution_count": 61
        }
      ]
    },
    {
      "cell_type": "markdown",
      "metadata": {
        "id": "FJYYBkLlcdkD"
      },
      "source": [
        "## Indexando com fatias"
      ]
    },
    {
      "cell_type": "code",
      "metadata": {
        "colab": {
          "base_uri": "https://localhost:8080/"
        },
        "id": "H9eJWPeDcVeK",
        "outputId": "19a6d8ce-df3c-4706-b31a-94ca7c75c16c"
      },
      "source": [
        "arr"
      ],
      "execution_count": 62,
      "outputs": [
        {
          "output_type": "execute_result",
          "data": {
            "text/plain": [
              "array([ 0,  1,  2,  3,  4, 64, 64, 64,  8,  9])"
            ]
          },
          "metadata": {
            "tags": []
          },
          "execution_count": 62
        }
      ]
    },
    {
      "cell_type": "code",
      "metadata": {
        "colab": {
          "base_uri": "https://localhost:8080/"
        },
        "id": "vKVFh4t8dLij",
        "outputId": "e3416e1c-f132-4af6-8492-ebb0b6358e96"
      },
      "source": [
        "arr[1:6]"
      ],
      "execution_count": 63,
      "outputs": [
        {
          "output_type": "execute_result",
          "data": {
            "text/plain": [
              "array([ 1,  2,  3,  4, 64])"
            ]
          },
          "metadata": {
            "tags": []
          },
          "execution_count": 63
        }
      ]
    },
    {
      "cell_type": "code",
      "metadata": {
        "colab": {
          "base_uri": "https://localhost:8080/"
        },
        "id": "RWaT9v1zdPIb",
        "outputId": "222dd748-db47-4e7a-9e20-c79cecbeb4b2"
      },
      "source": [
        "arr2d"
      ],
      "execution_count": 64,
      "outputs": [
        {
          "output_type": "execute_result",
          "data": {
            "text/plain": [
              "array([[1, 2, 3],\n",
              "       [4, 5, 6],\n",
              "       [7, 8, 9]])"
            ]
          },
          "metadata": {
            "tags": []
          },
          "execution_count": 64
        }
      ]
    },
    {
      "cell_type": "code",
      "metadata": {
        "colab": {
          "base_uri": "https://localhost:8080/"
        },
        "id": "I1B51SredVhG",
        "outputId": "bc0d61ad-7a5c-4f89-fa1f-d25b1ea83759"
      },
      "source": [
        "arr2d[:1]"
      ],
      "execution_count": 65,
      "outputs": [
        {
          "output_type": "execute_result",
          "data": {
            "text/plain": [
              "array([[1, 2, 3]])"
            ]
          },
          "metadata": {
            "tags": []
          },
          "execution_count": 65
        }
      ]
    },
    {
      "cell_type": "code",
      "metadata": {
        "colab": {
          "base_uri": "https://localhost:8080/"
        },
        "id": "iVIEe9DQdddz",
        "outputId": "358e14a8-0ac9-4017-ee81-0c4a24c925d4"
      },
      "source": [
        "arr2d[:2, 1:]"
      ],
      "execution_count": 66,
      "outputs": [
        {
          "output_type": "execute_result",
          "data": {
            "text/plain": [
              "array([[2, 3],\n",
              "       [5, 6]])"
            ]
          },
          "metadata": {
            "tags": []
          },
          "execution_count": 66
        }
      ]
    },
    {
      "cell_type": "code",
      "metadata": {
        "colab": {
          "base_uri": "https://localhost:8080/"
        },
        "id": "Cqc3e3LreCfY",
        "outputId": "53708006-7514-43e1-eeea-966541d341d2"
      },
      "source": [
        "arr2d[1, :2]"
      ],
      "execution_count": 67,
      "outputs": [
        {
          "output_type": "execute_result",
          "data": {
            "text/plain": [
              "array([4, 5])"
            ]
          },
          "metadata": {
            "tags": []
          },
          "execution_count": 67
        }
      ]
    },
    {
      "cell_type": "code",
      "metadata": {
        "colab": {
          "base_uri": "https://localhost:8080/"
        },
        "id": "-3r9uD5se7Qo",
        "outputId": "0b0fda78-7740-463c-f956-0ec1ade645a3"
      },
      "source": [
        "arr2d[:2, 2]"
      ],
      "execution_count": 68,
      "outputs": [
        {
          "output_type": "execute_result",
          "data": {
            "text/plain": [
              "array([3, 6])"
            ]
          },
          "metadata": {
            "tags": []
          },
          "execution_count": 68
        }
      ]
    },
    {
      "cell_type": "code",
      "metadata": {
        "colab": {
          "base_uri": "https://localhost:8080/"
        },
        "id": "xYbrwNtRfBaL",
        "outputId": "f542e6cb-5cec-4383-ff69-eeb76eefe325"
      },
      "source": [
        "arr2d[:, :1]"
      ],
      "execution_count": 69,
      "outputs": [
        {
          "output_type": "execute_result",
          "data": {
            "text/plain": [
              "array([[1],\n",
              "       [4],\n",
              "       [7]])"
            ]
          },
          "metadata": {
            "tags": []
          },
          "execution_count": 69
        }
      ]
    },
    {
      "cell_type": "code",
      "metadata": {
        "id": "4OOeAbi6fH3K"
      },
      "source": [
        "arr2d[:2, 1:] = 0"
      ],
      "execution_count": 70,
      "outputs": []
    },
    {
      "cell_type": "code",
      "metadata": {
        "colab": {
          "base_uri": "https://localhost:8080/"
        },
        "id": "iuyyhf9XfTWJ",
        "outputId": "3c42d6fc-d156-4e6f-d57c-06df0dfa87e0"
      },
      "source": [
        "arr2d"
      ],
      "execution_count": 71,
      "outputs": [
        {
          "output_type": "execute_result",
          "data": {
            "text/plain": [
              "array([[1, 0, 0],\n",
              "       [4, 0, 0],\n",
              "       [7, 8, 9]])"
            ]
          },
          "metadata": {
            "tags": []
          },
          "execution_count": 71
        }
      ]
    },
    {
      "cell_type": "markdown",
      "metadata": {
        "id": "cLIK9xQoLYgr"
      },
      "source": [
        "## Indexação booleana"
      ]
    },
    {
      "cell_type": "code",
      "metadata": {
        "id": "cwBMRHevfaGS"
      },
      "source": [
        "names = np.array(['Bob', 'joe', 'Will', 'Bob', 'Will', 'Joe', 'Joe'])"
      ],
      "execution_count": 72,
      "outputs": []
    },
    {
      "cell_type": "code",
      "metadata": {
        "id": "gFCGc7c_PTnK"
      },
      "source": [
        "data = np.random.randn(7, 4)"
      ],
      "execution_count": 73,
      "outputs": []
    },
    {
      "cell_type": "code",
      "metadata": {
        "colab": {
          "base_uri": "https://localhost:8080/"
        },
        "id": "BOzwzv_ZPbKi",
        "outputId": "221f3da4-72b0-48e8-ea82-58e4ae83ec2e"
      },
      "source": [
        "names"
      ],
      "execution_count": 74,
      "outputs": [
        {
          "output_type": "execute_result",
          "data": {
            "text/plain": [
              "array(['Bob', 'joe', 'Will', 'Bob', 'Will', 'Joe', 'Joe'], dtype='<U4')"
            ]
          },
          "metadata": {
            "tags": []
          },
          "execution_count": 74
        }
      ]
    },
    {
      "cell_type": "code",
      "metadata": {
        "colab": {
          "base_uri": "https://localhost:8080/"
        },
        "id": "eVxqLkfNPciT",
        "outputId": "bbf15b50-e520-4729-d215-1fb4b561a4fb"
      },
      "source": [
        "data"
      ],
      "execution_count": 75,
      "outputs": [
        {
          "output_type": "execute_result",
          "data": {
            "text/plain": [
              "array([[-0.32474994,  0.73540226, -0.24077738, -1.89956193],\n",
              "       [-0.50585335,  0.4510281 ,  0.44203003,  1.39430389],\n",
              "       [ 2.06558705,  0.97632947, -0.29138126, -0.2777792 ],\n",
              "       [ 0.13674028,  0.36087994, -0.32691355, -1.17224129],\n",
              "       [ 0.31051022, -1.40564687,  2.14400218, -0.14131911],\n",
              "       [-0.03190866, -0.72803267, -0.96496926, -0.2178832 ],\n",
              "       [-0.06115653, -1.16124106, -0.11465117, -1.25078683]])"
            ]
          },
          "metadata": {
            "tags": []
          },
          "execution_count": 75
        }
      ]
    },
    {
      "cell_type": "code",
      "metadata": {
        "id": "ZqIJz9OZPedE",
        "colab": {
          "base_uri": "https://localhost:8080/"
        },
        "outputId": "6ddeee21-ae76-47d0-c7b8-92c090f97069"
      },
      "source": [
        "names == \"Bob\""
      ],
      "execution_count": 76,
      "outputs": [
        {
          "output_type": "execute_result",
          "data": {
            "text/plain": [
              "array([ True, False, False,  True, False, False, False])"
            ]
          },
          "metadata": {
            "tags": []
          },
          "execution_count": 76
        }
      ]
    },
    {
      "cell_type": "code",
      "metadata": {
        "colab": {
          "base_uri": "https://localhost:8080/"
        },
        "id": "nTGnJ25DojIu",
        "outputId": "20ba3692-563e-48c9-c45e-97336839ffc9"
      },
      "source": [
        "data[names == 'Bob']"
      ],
      "execution_count": 77,
      "outputs": [
        {
          "output_type": "execute_result",
          "data": {
            "text/plain": [
              "array([[-0.32474994,  0.73540226, -0.24077738, -1.89956193],\n",
              "       [ 0.13674028,  0.36087994, -0.32691355, -1.17224129]])"
            ]
          },
          "metadata": {
            "tags": []
          },
          "execution_count": 77
        }
      ]
    },
    {
      "cell_type": "code",
      "metadata": {
        "colab": {
          "base_uri": "https://localhost:8080/"
        },
        "id": "PaOfTbXhotqO",
        "outputId": "3e436e8b-4835-4165-a0b2-c422f49e6444"
      },
      "source": [
        "data[names == 'Bob', 2:]"
      ],
      "execution_count": 78,
      "outputs": [
        {
          "output_type": "execute_result",
          "data": {
            "text/plain": [
              "array([[-0.24077738, -1.89956193],\n",
              "       [-0.32691355, -1.17224129]])"
            ]
          },
          "metadata": {
            "tags": []
          },
          "execution_count": 78
        }
      ]
    },
    {
      "cell_type": "code",
      "metadata": {
        "colab": {
          "base_uri": "https://localhost:8080/"
        },
        "id": "J1Rd5JzRo-kt",
        "outputId": "b83704f6-fe19-4fe6-de9c-58a7bf6a2b96"
      },
      "source": [
        "data[names == 'Bob', 3:]"
      ],
      "execution_count": 79,
      "outputs": [
        {
          "output_type": "execute_result",
          "data": {
            "text/plain": [
              "array([[-1.89956193],\n",
              "       [-1.17224129]])"
            ]
          },
          "metadata": {
            "tags": []
          },
          "execution_count": 79
        }
      ]
    },
    {
      "cell_type": "code",
      "metadata": {
        "colab": {
          "base_uri": "https://localhost:8080/"
        },
        "id": "IrWk_NyYpJ1l",
        "outputId": "a44184d1-0e9c-41d1-c982-01159b810b16"
      },
      "source": [
        "names != 'Bob'"
      ],
      "execution_count": 80,
      "outputs": [
        {
          "output_type": "execute_result",
          "data": {
            "text/plain": [
              "array([False,  True,  True, False,  True,  True,  True])"
            ]
          },
          "metadata": {
            "tags": []
          },
          "execution_count": 80
        }
      ]
    },
    {
      "cell_type": "code",
      "metadata": {
        "colab": {
          "base_uri": "https://localhost:8080/"
        },
        "id": "jSVDknKppP4u",
        "outputId": "4f7e77b7-3f48-494e-8c38-b50ba3f658ea"
      },
      "source": [
        "data[~(names == 'Bob')]"
      ],
      "execution_count": 81,
      "outputs": [
        {
          "output_type": "execute_result",
          "data": {
            "text/plain": [
              "array([[-0.50585335,  0.4510281 ,  0.44203003,  1.39430389],\n",
              "       [ 2.06558705,  0.97632947, -0.29138126, -0.2777792 ],\n",
              "       [ 0.31051022, -1.40564687,  2.14400218, -0.14131911],\n",
              "       [-0.03190866, -0.72803267, -0.96496926, -0.2178832 ],\n",
              "       [-0.06115653, -1.16124106, -0.11465117, -1.25078683]])"
            ]
          },
          "metadata": {
            "tags": []
          },
          "execution_count": 81
        }
      ]
    },
    {
      "cell_type": "code",
      "metadata": {
        "id": "lZrLyam5pYSt"
      },
      "source": [
        "cond = names == 'Bob'"
      ],
      "execution_count": 82,
      "outputs": []
    },
    {
      "cell_type": "code",
      "metadata": {
        "colab": {
          "base_uri": "https://localhost:8080/"
        },
        "id": "TBjwfYzOpdiG",
        "outputId": "b5c9da59-6430-4786-f35b-d5018a37dc9d"
      },
      "source": [
        "data[~cond]"
      ],
      "execution_count": 83,
      "outputs": [
        {
          "output_type": "execute_result",
          "data": {
            "text/plain": [
              "array([[-0.50585335,  0.4510281 ,  0.44203003,  1.39430389],\n",
              "       [ 2.06558705,  0.97632947, -0.29138126, -0.2777792 ],\n",
              "       [ 0.31051022, -1.40564687,  2.14400218, -0.14131911],\n",
              "       [-0.03190866, -0.72803267, -0.96496926, -0.2178832 ],\n",
              "       [-0.06115653, -1.16124106, -0.11465117, -1.25078683]])"
            ]
          },
          "metadata": {
            "tags": []
          },
          "execution_count": 83
        }
      ]
    },
    {
      "cell_type": "code",
      "metadata": {
        "id": "42yc8A0Mpg8a"
      },
      "source": [
        "mask = (names == 'Bob') | (names == 'Will')"
      ],
      "execution_count": 84,
      "outputs": []
    },
    {
      "cell_type": "code",
      "metadata": {
        "colab": {
          "base_uri": "https://localhost:8080/"
        },
        "id": "HlbZ9lZqpus-",
        "outputId": "9145c649-f34f-4cdf-e6b4-2ecf97dd80bb"
      },
      "source": [
        "mask"
      ],
      "execution_count": 85,
      "outputs": [
        {
          "output_type": "execute_result",
          "data": {
            "text/plain": [
              "array([ True, False,  True,  True,  True, False, False])"
            ]
          },
          "metadata": {
            "tags": []
          },
          "execution_count": 85
        }
      ]
    },
    {
      "cell_type": "code",
      "metadata": {
        "colab": {
          "base_uri": "https://localhost:8080/"
        },
        "id": "HtjYiC7KpvUG",
        "outputId": "02590b3f-af71-4ed8-fa2b-3b0f7f0e1b74"
      },
      "source": [
        "data[mask]"
      ],
      "execution_count": 86,
      "outputs": [
        {
          "output_type": "execute_result",
          "data": {
            "text/plain": [
              "array([[-0.32474994,  0.73540226, -0.24077738, -1.89956193],\n",
              "       [ 2.06558705,  0.97632947, -0.29138126, -0.2777792 ],\n",
              "       [ 0.13674028,  0.36087994, -0.32691355, -1.17224129],\n",
              "       [ 0.31051022, -1.40564687,  2.14400218, -0.14131911]])"
            ]
          },
          "metadata": {
            "tags": []
          },
          "execution_count": 86
        }
      ]
    },
    {
      "cell_type": "code",
      "metadata": {
        "id": "-PmfpxxNpy_g"
      },
      "source": [
        "data[data < 0] = 0"
      ],
      "execution_count": 87,
      "outputs": []
    },
    {
      "cell_type": "code",
      "metadata": {
        "colab": {
          "base_uri": "https://localhost:8080/"
        },
        "id": "_yAz5xk4qGMO",
        "outputId": "cafd6d21-e5b9-40f1-cf4e-94851f4f69b1"
      },
      "source": [
        "data"
      ],
      "execution_count": 88,
      "outputs": [
        {
          "output_type": "execute_result",
          "data": {
            "text/plain": [
              "array([[0.        , 0.73540226, 0.        , 0.        ],\n",
              "       [0.        , 0.4510281 , 0.44203003, 1.39430389],\n",
              "       [2.06558705, 0.97632947, 0.        , 0.        ],\n",
              "       [0.13674028, 0.36087994, 0.        , 0.        ],\n",
              "       [0.31051022, 0.        , 2.14400218, 0.        ],\n",
              "       [0.        , 0.        , 0.        , 0.        ],\n",
              "       [0.        , 0.        , 0.        , 0.        ]])"
            ]
          },
          "metadata": {
            "tags": []
          },
          "execution_count": 88
        }
      ]
    },
    {
      "cell_type": "code",
      "metadata": {
        "id": "MX-p0upgqHT2"
      },
      "source": [
        "data[names != 'Joe'] = 7"
      ],
      "execution_count": 89,
      "outputs": []
    },
    {
      "cell_type": "code",
      "metadata": {
        "colab": {
          "base_uri": "https://localhost:8080/"
        },
        "id": "gDhFtp5sqQi2",
        "outputId": "c2c99cec-0ad5-48c1-9574-37490a0f7e60"
      },
      "source": [
        "data"
      ],
      "execution_count": 90,
      "outputs": [
        {
          "output_type": "execute_result",
          "data": {
            "text/plain": [
              "array([[7., 7., 7., 7.],\n",
              "       [7., 7., 7., 7.],\n",
              "       [7., 7., 7., 7.],\n",
              "       [7., 7., 7., 7.],\n",
              "       [7., 7., 7., 7.],\n",
              "       [0., 0., 0., 0.],\n",
              "       [0., 0., 0., 0.]])"
            ]
          },
          "metadata": {
            "tags": []
          },
          "execution_count": 90
        }
      ]
    },
    {
      "cell_type": "markdown",
      "metadata": {
        "id": "kU_AtjWyqZfW"
      },
      "source": [
        "## Indexação sofisticada"
      ]
    },
    {
      "cell_type": "code",
      "metadata": {
        "id": "S-kv3b8mqRi9"
      },
      "source": [
        "arr = np.empty((8, 4))"
      ],
      "execution_count": 91,
      "outputs": []
    },
    {
      "cell_type": "code",
      "metadata": {
        "id": "sDlB4uWaqpZP"
      },
      "source": [
        "for i in range(8):\n",
        "    arr[i] = i"
      ],
      "execution_count": 92,
      "outputs": []
    },
    {
      "cell_type": "code",
      "metadata": {
        "colab": {
          "base_uri": "https://localhost:8080/"
        },
        "id": "WJFdtQe8qvqp",
        "outputId": "7c8e307f-aeea-43a5-c83d-b5b68f618914"
      },
      "source": [
        "arr"
      ],
      "execution_count": 93,
      "outputs": [
        {
          "output_type": "execute_result",
          "data": {
            "text/plain": [
              "array([[0., 0., 0., 0.],\n",
              "       [1., 1., 1., 1.],\n",
              "       [2., 2., 2., 2.],\n",
              "       [3., 3., 3., 3.],\n",
              "       [4., 4., 4., 4.],\n",
              "       [5., 5., 5., 5.],\n",
              "       [6., 6., 6., 6.],\n",
              "       [7., 7., 7., 7.]])"
            ]
          },
          "metadata": {
            "tags": []
          },
          "execution_count": 93
        }
      ]
    },
    {
      "cell_type": "code",
      "metadata": {
        "colab": {
          "base_uri": "https://localhost:8080/"
        },
        "id": "eOyWikYMqwWl",
        "outputId": "f1761235-bdaf-4673-c279-9291de797742"
      },
      "source": [
        "arr[[4, 3, 0, 6]]"
      ],
      "execution_count": 94,
      "outputs": [
        {
          "output_type": "execute_result",
          "data": {
            "text/plain": [
              "array([[4., 4., 4., 4.],\n",
              "       [3., 3., 3., 3.],\n",
              "       [0., 0., 0., 0.],\n",
              "       [6., 6., 6., 6.]])"
            ]
          },
          "metadata": {
            "tags": []
          },
          "execution_count": 94
        }
      ]
    },
    {
      "cell_type": "code",
      "metadata": {
        "colab": {
          "base_uri": "https://localhost:8080/"
        },
        "id": "JllepX01rBi3",
        "outputId": "61ac7cbf-cb35-47fe-a93c-b9554a328a47"
      },
      "source": [
        "arr[[-3, -5, -7]]"
      ],
      "execution_count": 95,
      "outputs": [
        {
          "output_type": "execute_result",
          "data": {
            "text/plain": [
              "array([[5., 5., 5., 5.],\n",
              "       [3., 3., 3., 3.],\n",
              "       [1., 1., 1., 1.]])"
            ]
          },
          "metadata": {
            "tags": []
          },
          "execution_count": 95
        }
      ]
    },
    {
      "cell_type": "code",
      "metadata": {
        "id": "MboR8xbZrNOC"
      },
      "source": [
        "arr = np.arange(32).reshape((8, 4))"
      ],
      "execution_count": 96,
      "outputs": []
    },
    {
      "cell_type": "code",
      "metadata": {
        "colab": {
          "base_uri": "https://localhost:8080/"
        },
        "id": "njWrjBxarcMP",
        "outputId": "a741d124-0301-4a2b-8958-6a84e3cbd2f8"
      },
      "source": [
        "arr"
      ],
      "execution_count": 97,
      "outputs": [
        {
          "output_type": "execute_result",
          "data": {
            "text/plain": [
              "array([[ 0,  1,  2,  3],\n",
              "       [ 4,  5,  6,  7],\n",
              "       [ 8,  9, 10, 11],\n",
              "       [12, 13, 14, 15],\n",
              "       [16, 17, 18, 19],\n",
              "       [20, 21, 22, 23],\n",
              "       [24, 25, 26, 27],\n",
              "       [28, 29, 30, 31]])"
            ]
          },
          "metadata": {
            "tags": []
          },
          "execution_count": 97
        }
      ]
    },
    {
      "cell_type": "code",
      "metadata": {
        "colab": {
          "base_uri": "https://localhost:8080/"
        },
        "id": "DPQNZnI0reU-",
        "outputId": "be561e36-2695-48eb-8a95-c920c29cf3f4"
      },
      "source": [
        "arr[[1, 5, 7, 2], [0, 3, 1, 2]]"
      ],
      "execution_count": 98,
      "outputs": [
        {
          "output_type": "execute_result",
          "data": {
            "text/plain": [
              "array([ 4, 23, 29, 10])"
            ]
          },
          "metadata": {
            "tags": []
          },
          "execution_count": 98
        }
      ]
    },
    {
      "cell_type": "code",
      "metadata": {
        "colab": {
          "base_uri": "https://localhost:8080/"
        },
        "id": "EhqyNFSZuPUP",
        "outputId": "53d0095d-f557-4ca7-fe07-057e4c403a16"
      },
      "source": [
        "arr[[1, 5, 7, 2]][:, [0, 3, 1, 2]]"
      ],
      "execution_count": 100,
      "outputs": [
        {
          "output_type": "execute_result",
          "data": {
            "text/plain": [
              "array([[ 4,  7,  5,  6],\n",
              "       [20, 23, 21, 22],\n",
              "       [28, 31, 29, 30],\n",
              "       [ 8, 11,  9, 10]])"
            ]
          },
          "metadata": {
            "tags": []
          },
          "execution_count": 100
        }
      ]
    },
    {
      "cell_type": "markdown",
      "metadata": {
        "id": "fhUMGSYiuswW"
      },
      "source": [
        "## Transposição de arrays e troca de eixos"
      ]
    },
    {
      "cell_type": "code",
      "metadata": {
        "id": "AVNqRf_XugPS"
      },
      "source": [
        "arr = np.arange(15).reshape((3, 5))"
      ],
      "execution_count": 101,
      "outputs": []
    },
    {
      "cell_type": "code",
      "metadata": {
        "colab": {
          "base_uri": "https://localhost:8080/"
        },
        "id": "Q_cMnoravBDH",
        "outputId": "56677380-cc02-442b-8845-33a3e0a6c7b3"
      },
      "source": [
        "arr"
      ],
      "execution_count": 102,
      "outputs": [
        {
          "output_type": "execute_result",
          "data": {
            "text/plain": [
              "array([[ 0,  1,  2,  3,  4],\n",
              "       [ 5,  6,  7,  8,  9],\n",
              "       [10, 11, 12, 13, 14]])"
            ]
          },
          "metadata": {
            "tags": []
          },
          "execution_count": 102
        }
      ]
    },
    {
      "cell_type": "code",
      "metadata": {
        "colab": {
          "base_uri": "https://localhost:8080/"
        },
        "id": "bJdzysjPvBZs",
        "outputId": "9e1f0419-e33a-4a7a-d83a-a1b4ae569208"
      },
      "source": [
        "arr.T"
      ],
      "execution_count": 103,
      "outputs": [
        {
          "output_type": "execute_result",
          "data": {
            "text/plain": [
              "array([[ 0,  5, 10],\n",
              "       [ 1,  6, 11],\n",
              "       [ 2,  7, 12],\n",
              "       [ 3,  8, 13],\n",
              "       [ 4,  9, 14]])"
            ]
          },
          "metadata": {
            "tags": []
          },
          "execution_count": 103
        }
      ]
    },
    {
      "cell_type": "code",
      "metadata": {
        "id": "8PiBEJ82vFmt"
      },
      "source": [
        "arr = np.random.randn(6, 3)"
      ],
      "execution_count": 104,
      "outputs": []
    },
    {
      "cell_type": "code",
      "metadata": {
        "colab": {
          "base_uri": "https://localhost:8080/"
        },
        "id": "nxDel3mcvQSO",
        "outputId": "245dd741-4bef-4f3d-ff06-a8d2501169ab"
      },
      "source": [
        "arr"
      ],
      "execution_count": 105,
      "outputs": [
        {
          "output_type": "execute_result",
          "data": {
            "text/plain": [
              "array([[ 0.24543343,  1.72649992, -1.23426587],\n",
              "       [ 0.5291449 , -0.35784265, -0.22653107],\n",
              "       [ 1.21769173,  0.16841629,  0.54101562],\n",
              "       [-0.19231627, -1.1431645 ,  1.10985878],\n",
              "       [-0.12971286, -0.48807634,  0.26908242],\n",
              "       [-0.24854835,  0.8120196 ,  1.96775077]])"
            ]
          },
          "metadata": {
            "tags": []
          },
          "execution_count": 105
        }
      ]
    },
    {
      "cell_type": "code",
      "metadata": {
        "colab": {
          "base_uri": "https://localhost:8080/"
        },
        "id": "uJiIsSeZvRX9",
        "outputId": "83246799-6f8d-4b45-d517-111a3e70a6e6"
      },
      "source": [
        "np.dot(arr.T, arr)"
      ],
      "execution_count": 106,
      "outputs": [
        {
          "output_type": "execute_result",
          "data": {
            "text/plain": [
              "array([[ 1.93859229,  0.52080208, -0.50143618],\n",
              "       [ 0.52080208,  5.34163681, -1.76101335],\n",
              "       [-0.50143618, -1.76101335,  7.04366141]])"
            ]
          },
          "metadata": {
            "tags": []
          },
          "execution_count": 106
        }
      ]
    },
    {
      "cell_type": "code",
      "metadata": {
        "id": "ifPZW16bvWbH"
      },
      "source": [
        "arr = np.arange(16).reshape((2, 2, 4))"
      ],
      "execution_count": 107,
      "outputs": []
    },
    {
      "cell_type": "code",
      "metadata": {
        "colab": {
          "base_uri": "https://localhost:8080/"
        },
        "id": "ME6OVH7swjoA",
        "outputId": "6fb6ed47-b894-4754-a769-0152a1a56e49"
      },
      "source": [
        "arr"
      ],
      "execution_count": 108,
      "outputs": [
        {
          "output_type": "execute_result",
          "data": {
            "text/plain": [
              "array([[[ 0,  1,  2,  3],\n",
              "        [ 4,  5,  6,  7]],\n",
              "\n",
              "       [[ 8,  9, 10, 11],\n",
              "        [12, 13, 14, 15]]])"
            ]
          },
          "metadata": {
            "tags": []
          },
          "execution_count": 108
        }
      ]
    },
    {
      "cell_type": "code",
      "metadata": {
        "colab": {
          "base_uri": "https://localhost:8080/"
        },
        "id": "5HbbYp3VwkX0",
        "outputId": "59cce253-2a8e-4179-dfb4-03fd05d9b33d"
      },
      "source": [
        "arr.transpose((1, 0, 2))"
      ],
      "execution_count": 109,
      "outputs": [
        {
          "output_type": "execute_result",
          "data": {
            "text/plain": [
              "array([[[ 0,  1,  2,  3],\n",
              "        [ 8,  9, 10, 11]],\n",
              "\n",
              "       [[ 4,  5,  6,  7],\n",
              "        [12, 13, 14, 15]]])"
            ]
          },
          "metadata": {
            "tags": []
          },
          "execution_count": 109
        }
      ]
    },
    {
      "cell_type": "code",
      "metadata": {
        "colab": {
          "base_uri": "https://localhost:8080/"
        },
        "id": "f6ixtTMfwqtU",
        "outputId": "923f5047-2b23-4d0f-fdf9-ad4929ed94a0"
      },
      "source": [
        "arr"
      ],
      "execution_count": 110,
      "outputs": [
        {
          "output_type": "execute_result",
          "data": {
            "text/plain": [
              "array([[[ 0,  1,  2,  3],\n",
              "        [ 4,  5,  6,  7]],\n",
              "\n",
              "       [[ 8,  9, 10, 11],\n",
              "        [12, 13, 14, 15]]])"
            ]
          },
          "metadata": {
            "tags": []
          },
          "execution_count": 110
        }
      ]
    },
    {
      "cell_type": "code",
      "metadata": {
        "colab": {
          "base_uri": "https://localhost:8080/"
        },
        "id": "6gqfwThkxOat",
        "outputId": "d06b6399-2350-47c9-d5c9-639a36bb9474"
      },
      "source": [
        "arr.swapaxes(1, 2)"
      ],
      "execution_count": 111,
      "outputs": [
        {
          "output_type": "execute_result",
          "data": {
            "text/plain": [
              "array([[[ 0,  4],\n",
              "        [ 1,  5],\n",
              "        [ 2,  6],\n",
              "        [ 3,  7]],\n",
              "\n",
              "       [[ 8, 12],\n",
              "        [ 9, 13],\n",
              "        [10, 14],\n",
              "        [11, 15]]])"
            ]
          },
          "metadata": {
            "tags": []
          },
          "execution_count": 111
        }
      ]
    },
    {
      "cell_type": "markdown",
      "metadata": {
        "id": "3u5mY_mIxXi0"
      },
      "source": [
        "## Funções universais: funções rápidas de arrays para todos os elementos"
      ]
    },
    {
      "cell_type": "code",
      "metadata": {
        "id": "52rADVlLxRgt"
      },
      "source": [
        ""
      ],
      "execution_count": null,
      "outputs": []
    }
  ]
}